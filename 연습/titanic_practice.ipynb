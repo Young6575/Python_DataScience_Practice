{
 "cells": [
  {
   "cell_type": "markdown",
   "id": "07687e0b",
   "metadata": {},
   "source": [
    "## Titanic 데이터 분석 연습 문제"
   ]
  },
  {
   "cell_type": "code",
   "execution_count": null,
   "id": "2529f0d7",
   "metadata": {},
   "outputs": [],
   "source": [
    "\n",
    "import seaborn as sns\n",
    "import pandas as pd\n",
    "import matplotlib.pyplot as plt\n",
    "\n",
    "# Titanic 데이터셋 로드\n",
    "df = sns.load_dataset('titanic')\n",
    "df.head()\n"
   ]
  },
  {
   "cell_type": "markdown",
   "id": "b03a9937",
   "metadata": {},
   "source": [
    "### 🔰 1단계 (기초)"
   ]
  },
  {
   "cell_type": "code",
   "execution_count": null,
   "id": "b0e1989e",
   "metadata": {},
   "outputs": [],
   "source": [
    "\n",
    "# 1. 전체 탑승객 수\n",
    "len(df)\n",
    "\n",
    "# 2. 전체 생존율\n",
    "df['survived'].mean()\n",
    "\n",
    "# 3. 성별별 생존율 시각화\n",
    "sns.barplot(data=df, x='sex', y='survived')\n",
    "plt.title('Survival Rate by Sex')\n",
    "plt.show()\n",
    "\n",
    "# 4. pclass별 탑승객 수 시각화\n",
    "sns.countplot(data=df, x='pclass')\n",
    "plt.title('Passenger Count by Class')\n",
    "plt.show()\n",
    "\n",
    "# 5. 1등급 여성 생존율\n",
    "df[(df['pclass']==1) & (df['sex']=='female')]['survived'].mean()\n"
   ]
  },
  {
   "cell_type": "markdown",
   "id": "9af2b2cb",
   "metadata": {},
   "source": [
    "### 🔰 2단계 (중급)"
   ]
  },
  {
   "cell_type": "code",
   "execution_count": null,
   "id": "6ef58491",
   "metadata": {},
   "outputs": [],
   "source": [
    "\n",
    "# 6. pclass와 sex 기준 생존율\n",
    "df.groupby(['pclass','sex'])['survived'].mean()\n",
    "\n",
    "# 7. pclass vs survived 교차표\n",
    "pd.crosstab(df['pclass'], df['survived'])\n",
    "\n",
    "# 8. 나이를 10살 단위로 나눠 생존율 계산\n",
    "df['age_group'] = pd.cut(df['age'], bins=range(0, 81, 10))\n",
    "df.groupby('age_group')['survived'].mean()\n",
    "\n",
    "# 9. 형제/자매 수에 따른 생존율\n",
    "df.groupby('sibsp')['survived'].mean()\n",
    "\n",
    "# 10. 요금 상위 25% 승객의 생존율\n",
    "q3 = df['fare'].quantile(0.75)\n",
    "df[df['fare'] >= q3]['survived'].mean()\n"
   ]
  },
  {
   "cell_type": "markdown",
   "id": "a862dbcf",
   "metadata": {},
   "source": [
    "### 🔰 3단계 (심화)"
   ]
  },
  {
   "cell_type": "code",
   "execution_count": null,
   "id": "64b4f44c",
   "metadata": {},
   "outputs": [],
   "source": [
    "\n",
    "# 11. age vs fare 산점도 (생존 여부 색상 구분)\n",
    "sns.scatterplot(data=df, x='age', y='fare', hue='survived')\n",
    "plt.title('Age vs Fare with Survival')\n",
    "plt.show()\n",
    "\n",
    "# 12. 성별 + 등급별 생존율 히트맵\n",
    "pivot = df.pivot_table(values='survived', index='sex', columns='pclass', aggfunc='mean')\n",
    "sns.heatmap(pivot, annot=True, cmap='Blues')\n",
    "plt.title('Survival Rate by Sex and Class')\n",
    "plt.show()\n",
    "\n",
    "# 13. child/adult 컬럼 생성 후 생존율 비교\n",
    "df['group'] = df['age'].apply(lambda x: 'child' if x < 18 else 'adult')\n",
    "df.groupby('group')['survived'].mean()\n",
    "\n",
    "# 14. 1등급 여성 vs 3등급 남성 생존율 비교\n",
    "first_female = df[(df['pclass']==1) & (df['sex']=='female')]['survived'].mean()\n",
    "third_male = df[(df['pclass']==3) & (df['sex']=='male')]['survived'].mean()\n",
    "first_female, third_male\n",
    "\n",
    "# 15. deck별 생존율 히트맵\n",
    "deck_pivot = df.pivot_table(values='survived', index='deck', aggfunc='mean')\n",
    "sns.heatmap(deck_pivot, annot=True, cmap='Greens')\n",
    "plt.title('Survival Rate by Deck')\n",
    "plt.show()\n"
   ]
  }
 ],
 "metadata": {},
 "nbformat": 4,
 "nbformat_minor": 5
}
