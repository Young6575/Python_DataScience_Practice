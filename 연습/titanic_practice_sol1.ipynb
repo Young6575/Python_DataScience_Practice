{
 "cells": [
  {
   "cell_type": "markdown",
   "id": "07687e0b",
   "metadata": {},
   "source": [
    "## Titanic 데이터 분석 연습 문제"
   ]
  },
  {
   "cell_type": "code",
   "execution_count": 16,
   "id": "2529f0d7",
   "metadata": {},
   "outputs": [
    {
     "data": {
      "text/html": [
       "<div>\n",
       "<style scoped>\n",
       "    .dataframe tbody tr th:only-of-type {\n",
       "        vertical-align: middle;\n",
       "    }\n",
       "\n",
       "    .dataframe tbody tr th {\n",
       "        vertical-align: top;\n",
       "    }\n",
       "\n",
       "    .dataframe thead th {\n",
       "        text-align: right;\n",
       "    }\n",
       "</style>\n",
       "<table border=\"1\" class=\"dataframe\">\n",
       "  <thead>\n",
       "    <tr style=\"text-align: right;\">\n",
       "      <th></th>\n",
       "      <th>survived</th>\n",
       "      <th>pclass</th>\n",
       "      <th>sex</th>\n",
       "      <th>age</th>\n",
       "      <th>sibsp</th>\n",
       "      <th>parch</th>\n",
       "      <th>fare</th>\n",
       "      <th>embarked</th>\n",
       "      <th>class</th>\n",
       "      <th>who</th>\n",
       "      <th>adult_male</th>\n",
       "      <th>deck</th>\n",
       "      <th>embark_town</th>\n",
       "      <th>alive</th>\n",
       "      <th>alone</th>\n",
       "    </tr>\n",
       "  </thead>\n",
       "  <tbody>\n",
       "    <tr>\n",
       "      <th>0</th>\n",
       "      <td>0</td>\n",
       "      <td>3</td>\n",
       "      <td>male</td>\n",
       "      <td>22.0</td>\n",
       "      <td>1</td>\n",
       "      <td>0</td>\n",
       "      <td>7.2500</td>\n",
       "      <td>S</td>\n",
       "      <td>Third</td>\n",
       "      <td>man</td>\n",
       "      <td>True</td>\n",
       "      <td>NaN</td>\n",
       "      <td>Southampton</td>\n",
       "      <td>no</td>\n",
       "      <td>False</td>\n",
       "    </tr>\n",
       "    <tr>\n",
       "      <th>1</th>\n",
       "      <td>1</td>\n",
       "      <td>1</td>\n",
       "      <td>female</td>\n",
       "      <td>38.0</td>\n",
       "      <td>1</td>\n",
       "      <td>0</td>\n",
       "      <td>71.2833</td>\n",
       "      <td>C</td>\n",
       "      <td>First</td>\n",
       "      <td>woman</td>\n",
       "      <td>False</td>\n",
       "      <td>C</td>\n",
       "      <td>Cherbourg</td>\n",
       "      <td>yes</td>\n",
       "      <td>False</td>\n",
       "    </tr>\n",
       "    <tr>\n",
       "      <th>2</th>\n",
       "      <td>1</td>\n",
       "      <td>3</td>\n",
       "      <td>female</td>\n",
       "      <td>26.0</td>\n",
       "      <td>0</td>\n",
       "      <td>0</td>\n",
       "      <td>7.9250</td>\n",
       "      <td>S</td>\n",
       "      <td>Third</td>\n",
       "      <td>woman</td>\n",
       "      <td>False</td>\n",
       "      <td>NaN</td>\n",
       "      <td>Southampton</td>\n",
       "      <td>yes</td>\n",
       "      <td>True</td>\n",
       "    </tr>\n",
       "    <tr>\n",
       "      <th>3</th>\n",
       "      <td>1</td>\n",
       "      <td>1</td>\n",
       "      <td>female</td>\n",
       "      <td>35.0</td>\n",
       "      <td>1</td>\n",
       "      <td>0</td>\n",
       "      <td>53.1000</td>\n",
       "      <td>S</td>\n",
       "      <td>First</td>\n",
       "      <td>woman</td>\n",
       "      <td>False</td>\n",
       "      <td>C</td>\n",
       "      <td>Southampton</td>\n",
       "      <td>yes</td>\n",
       "      <td>False</td>\n",
       "    </tr>\n",
       "    <tr>\n",
       "      <th>4</th>\n",
       "      <td>0</td>\n",
       "      <td>3</td>\n",
       "      <td>male</td>\n",
       "      <td>35.0</td>\n",
       "      <td>0</td>\n",
       "      <td>0</td>\n",
       "      <td>8.0500</td>\n",
       "      <td>S</td>\n",
       "      <td>Third</td>\n",
       "      <td>man</td>\n",
       "      <td>True</td>\n",
       "      <td>NaN</td>\n",
       "      <td>Southampton</td>\n",
       "      <td>no</td>\n",
       "      <td>True</td>\n",
       "    </tr>\n",
       "  </tbody>\n",
       "</table>\n",
       "</div>"
      ],
      "text/plain": [
       "   survived  pclass     sex   age  sibsp  parch     fare embarked  class  \\\n",
       "0         0       3    male  22.0      1      0   7.2500        S  Third   \n",
       "1         1       1  female  38.0      1      0  71.2833        C  First   \n",
       "2         1       3  female  26.0      0      0   7.9250        S  Third   \n",
       "3         1       1  female  35.0      1      0  53.1000        S  First   \n",
       "4         0       3    male  35.0      0      0   8.0500        S  Third   \n",
       "\n",
       "     who  adult_male deck  embark_town alive  alone  \n",
       "0    man        True  NaN  Southampton    no  False  \n",
       "1  woman       False    C    Cherbourg   yes  False  \n",
       "2  woman       False  NaN  Southampton   yes   True  \n",
       "3  woman       False    C  Southampton   yes  False  \n",
       "4    man        True  NaN  Southampton    no   True  "
      ]
     },
     "execution_count": 16,
     "metadata": {},
     "output_type": "execute_result"
    }
   ],
   "source": [
    "import numpy as np\n",
    "import seaborn as sns\n",
    "import pandas as pd\n",
    "import matplotlib.pyplot as plt\n",
    "\n",
    "# 한국어 설정\n",
    "plt.rcParams[\"font.family\"] = \"Malgun Gothic\"\n",
    "plt.rcParams[\"axes.unicode_minus\"] = False\n",
    "\n",
    "# Titanic 데이터셋 로드\n",
    "df = sns.load_dataset('titanic')\n",
    "df.head()\n"
   ]
  },
  {
   "cell_type": "markdown",
   "id": "b03a9937",
   "metadata": {},
   "source": [
    "### 🔰 1단계 (기초)"
   ]
  },
  {
   "cell_type": "code",
   "execution_count": 23,
   "id": "b0e1989e",
   "metadata": {},
   "outputs": [
    {
     "data": {
      "image/png": "[encoded data removed]",
      "text/plain": [
       "<Figure size 640x480 with 1 Axes>"
      ]
     },
     "metadata": {},
     "output_type": "display_data"
    },
    {
     "data": {
      "image/png": "[encoded data removed]",
      "text/plain": [
       "<Figure size 640x480 with 1 Axes>"
      ]
     },
     "metadata": {},
     "output_type": "display_data"
    },
    {
     "data": {
      "text/plain": [
       "np.float64(0.9680851063829787)"
      ]
     },
     "execution_count": 23,
     "metadata": {},
     "output_type": "execute_result"
    }
   ],
   "source": [
    "\n",
    "# 1. 전체 탑승객 수\n",
    "len(df)\n",
    "\n",
    "# 2. 전체 생존율\n",
    "len(df[df[\"survived\"] == 1]) / len(df)\n",
    "df[\"survived\"].mean()\n",
    "\n",
    "# 3. 성별별 생존율 시각화\n",
    "sns.barplot(data=df,x=\"sex\",y=\"survived\")\n",
    "plt.title(\"성별별 생존율\")\n",
    "plt.show()\n",
    "\n",
    "# 4. pclass별 탑승객 수 시각화\n",
    "sns.countplot(data=df,x=\"pclass\")\n",
    "plt.title(\"등급별 탑승자 수\")\n",
    "plt.show()\n",
    "\n",
    "# 5. 1등급 여성 생존율\n",
    "df[(df[\"pclass\"] == 1) & (df[\"sex\"] == \"female\")][\"survived\"].mean()\n",
    "\n"
   ]
  },
  {
   "cell_type": "markdown",
   "id": "9af2b2cb",
   "metadata": {},
   "source": [
    "### 🔰 2단계 (중급)"
   ]
  },
  {
   "cell_type": "code",
   "execution_count": 23,
   "id": "6ef58491",
   "metadata": {},
   "outputs": [
    {
     "name": "stderr",
     "output_type": "stream",
     "text": [
      "C:\\TempFolder\\ipykernel_1220\\180261571.py:11: FutureWarning: The default of observed=False is deprecated and will be changed to True in a future version of pandas. Pass observed=False to retain current behavior or observed=True to adopt the future default and silence this warning.\n",
      "  df.groupby(\"age_group\")[\"survived\"].mean()\n"
     ]
    },
    {
     "data": {
      "text/plain": [
       "np.float64(0.581081081081081)"
      ]
     },
     "execution_count": 23,
     "metadata": {},
     "output_type": "execute_result"
    }
   ],
   "source": [
    "\n",
    "# 6. pclass와 sex 기준 생존율\n",
    "pd.crosstab(df[\"pclass\"],df[\"sex\"],values=df[\"survived\"],aggfunc=\"mean\")\n",
    "\n",
    "\n",
    "# 7. pclass vs survived 교차표\n",
    "pd.crosstab(df[\"pclass\"],df[\"survived\"])\n",
    "\n",
    "# 8. 나이를 10살 단위로 나눠 생존율 계산\n",
    "df[\"age_group\"] = pd.cut(df[\"age\"], bins=range(0,81,10))\n",
    "pd.crosstab(df[\"age_group\"], \"survived_rate\", values=df[\"survived\"], aggfunc=\"mean\")\n",
    "df.groupby(\"age_group\")[\"survived\"].mean()\n",
    "# 9. 형제/자매 수에 따른 생존율\n",
    "df.groupby(\"sibsp\")[\"survived\"].mean()\n",
    "\n",
    "# 10. 요금 상위 25% 승객의 생존율\n",
    "top_25 = np.percentile(df[\"fare\"], 75)\n",
    "df[(df[\"fare\"] > top_25)][\"survived\"].mean()"
   ]
  },
  {
   "cell_type": "markdown",
   "id": "a862dbcf",
   "metadata": {},
   "source": [
    "### 🔰 3단계 (심화)"
   ]
  },
  {
   "cell_type": "code",
   "execution_count": null,
   "id": "64b4f44c",
   "metadata": {},
   "outputs": [],
   "source": [
    "\n",
    "# 11. age vs fare 산점도 (생존 여부 색상 구분)\n",
    "\n",
    "\n",
    "# 12. 성별 + 등급별 생존율 히트맵\n",
    "\n",
    "\n",
    "# 13. child/adult 컬럼 생성 후 생존율 비교\n",
    "\n",
    "\n",
    "# 14. 1등급 여성 vs 3등급 남성 생존율 비교\n",
    "\n",
    "\n",
    "# 15. deck별 생존율 히트맵\n",
    "\n"
   ]
  }
 ],
 "metadata": {
  "kernelspec": {
   "display_name": "Python 3",
   "language": "python",
   "name": "python3"
  },
  "language_info": {
   "codemirror_mode": {
    "name": "ipython",
    "version": 3
   },
   "file_extension": ".py",
   "mimetype": "text/x-python",
   "name": "python",
   "nbconvert_exporter": "python",
   "pygments_lexer": "ipython3",
   "version": "3.11.9"
  }
 },
 "nbformat": 4,
 "nbformat_minor": 5
}
