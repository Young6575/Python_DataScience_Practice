{
 "cells": [
  {
   "cell_type": "code",
   "execution_count": null,
   "metadata": {},
   "outputs": [],
   "source": [
    "pip install yfinance pandas matplotlib"
   ]
  },
  {
   "cell_type": "code",
   "execution_count": 2,
   "metadata": {},
   "outputs": [
    {
     "name": "stderr",
     "output_type": "stream",
     "text": [
      "C:\\Users\\user\\AppData\\Local\\Temp\\ipykernel_6148\\3866037839.py:7: FutureWarning: YF.download() has changed argument auto_adjust default to True\n",
      "  tiktok_data = yf.download(ticker, start=\"2020-01-01\", end=\"2023-12-31\")\n",
      "[*********************100%***********************]  1 of 1 completed"
     ]
    },
    {
     "name": "stdout",
     "output_type": "stream",
     "text": [
      "TikTok 주가 데이터 샘플:\n",
      " Price           Close       High        Low       Open     Volume\n",
      "Ticker           TSLA       TSLA       TSLA       TSLA       TSLA\n",
      "Date                                                             \n",
      "2020-01-02  28.684000  28.713333  28.114000  28.299999  142981500\n",
      "2020-01-03  29.534000  30.266666  29.128000  29.366667  266677500\n",
      "2020-01-06  30.102667  30.104000  29.333332  29.364668  151995000\n",
      "2020-01-07  31.270666  31.441999  30.224001  30.760000  268231500\n",
      "2020-01-08  32.809334  33.232666  31.215334  31.580000  467164500\n"
     ]
    },
    {
     "name": "stderr",
     "output_type": "stream",
     "text": [
      "\n"
     ]
    },
    {
     "ename": "NameError",
     "evalue": "name 'specific_date_data' is not defined",
     "output_type": "error",
     "traceback": [
      "\u001b[1;31m---------------------------------------------------------------------------\u001b[0m",
      "\u001b[1;31mNameError\u001b[0m                                 Traceback (most recent call last)",
      "Cell \u001b[1;32mIn[2], line 15\u001b[0m\n\u001b[0;32m     10\u001b[0m \u001b[38;5;28mprint\u001b[39m(\u001b[38;5;124m\"\u001b[39m\u001b[38;5;124mTikTok 주가 데이터 샘플:\u001b[39m\u001b[38;5;130;01m\\n\u001b[39;00m\u001b[38;5;124m\"\u001b[39m, tiktok_data\u001b[38;5;241m.\u001b[39mhead())\n\u001b[0;32m     12\u001b[0m \u001b[38;5;66;03m# 2. 연습 문제 예제 생성\u001b[39;00m\n\u001b[0;32m     13\u001b[0m \u001b[38;5;66;03m# 문제 1: 특정 날짜의 주가 정보 가져오기\u001b[39;00m\n\u001b[1;32m---> 15\u001b[0m \u001b[38;5;28mprint\u001b[39m(\u001b[38;5;124m\"\u001b[39m\u001b[38;5;130;01m\\n\u001b[39;00m\u001b[38;5;124m2022-01-03의 데이터:\u001b[39m\u001b[38;5;130;01m\\n\u001b[39;00m\u001b[38;5;124m\"\u001b[39m, \u001b[43mspecific_date_data\u001b[49m)\n\u001b[0;32m     17\u001b[0m \u001b[38;5;66;03m# 문제 2: 특정 기간(1년)의 데이터 가져오기\u001b[39;00m\n\u001b[0;32m     19\u001b[0m \u001b[38;5;28mprint\u001b[39m(\u001b[38;5;124m\"\u001b[39m\u001b[38;5;130;01m\\n\u001b[39;00m\u001b[38;5;124m2021년 TikTok 데이터:\u001b[39m\u001b[38;5;130;01m\\n\u001b[39;00m\u001b[38;5;124m\"\u001b[39m, one_year_data\u001b[38;5;241m.\u001b[39mhead())\n",
      "\u001b[1;31mNameError\u001b[0m: name 'specific_date_data' is not defined"
     ]
    }
   ],
   "source": [
    "import pandas as pd\n",
    "import yfinance as yf\n",
    "import matplotlib.pyplot as plt\n",
    "\n",
    "# 1. TikTok 주가 데이터 다운로드\n",
    "ticker = \"TSLA\"  # TikTok (티커 코드 예시)\n",
    "tiktok_data = yf.download(ticker, start=\"2020-01-01\", end=\"2023-12-31\")\n",
    "\n",
    "# 데이터 확인\n",
    "print(\"TikTok 주가 데이터 샘플:\\n\", tiktok_data.head())\n",
    "\n",
    "# 2. 연습 문제 예제 생성\n",
    "# 문제 1: 특정 날짜의 주가 정보 가져오기\n",
    "\n",
    "print(\"\\n2022-01-03의 데이터:\\n\", specific_date_data)\n",
    "\n",
    "# 문제 2: 특정 기간(1년)의 데이터 가져오기\n",
    "\n",
    "print(\"\\n2021년 TikTok 데이터:\\n\", one_year_data.head())\n",
    "\n",
    "# 문제 3: 종가(Close)가 5달러 이상인 날의 데이터 필터링\n",
    "\n",
    "print(\"\\n종가가 5달러 이상인 데이터:\\n\", high_price_data.head())\n",
    "\n",
    "# 문제 4: 거래량(Volume)이 1,000,000 이상인 날의 데이터 필터링\n",
    "\n",
    "print(\"\\n거래량이 1,000,000 이상인 데이터:\\n\", high_volume_data.head())\n",
    "\n",
    "# 문제 5: 특정 기간의 종가 데이터를 시각화\n",
    "plt.figure(figsize=(12, 6))\n",
    "plt.plot(one_year_data.index, one_year_data[\"Close\"], label=\"TikTok Close Price (2021)\", color=\"purple\")\n",
    "plt.title(\"TikTok Close Prices in 2021\")\n",
    "plt.xlabel(\"Date\")\n",
    "plt.ylabel(\"Close Price\")\n",
    "plt.legend()\n",
    "plt.grid()\n",
    "plt.show()\n"
   ]
  },
  {
   "cell_type": "code",
   "execution_count": 4,
   "metadata": {},
   "outputs": [],
   "source": [
    "# # 1. TikTok 주가 데이터 다운로드\n",
    "# ticker = \"TSLA\"  # TikTok (티커 코드 예시)\n",
    "# tiktok_data = yf.download(ticker, start=\"2020-01-01\", end=\"2023-12-31\")\n",
    "\n",
    "# # 데이터 확인\n",
    "# print(\"TikTok 주가 데이터 샘플:\\n\", tiktok_data.head())"
   ]
  },
  {
   "cell_type": "code",
   "execution_count": 7,
   "metadata": {},
   "outputs": [
    {
     "name": "stderr",
     "output_type": "stream",
     "text": [
      "C:\\Users\\user\\AppData\\Local\\Temp\\ipykernel_6148\\1576355885.py:2: FutureWarning: YF.download() has changed argument auto_adjust default to True\n",
      "  tesla_data = yf.download(ticker, start=\"2020-01-01\", end=\"2023-12-31\")\n",
      "[*********************100%***********************]  1 of 1 completed\n"
     ]
    },
    {
     "data": {
      "text/html": [
       "<div>\n",
       "<style scoped>\n",
       "    .dataframe tbody tr th:only-of-type {\n",
       "        vertical-align: middle;\n",
       "    }\n",
       "\n",
       "    .dataframe tbody tr th {\n",
       "        vertical-align: top;\n",
       "    }\n",
       "\n",
       "    .dataframe thead tr th {\n",
       "        text-align: left;\n",
       "    }\n",
       "\n",
       "    .dataframe thead tr:last-of-type th {\n",
       "        text-align: right;\n",
       "    }\n",
       "</style>\n",
       "<table border=\"1\" class=\"dataframe\">\n",
       "  <thead>\n",
       "    <tr>\n",
       "      <th>Price</th>\n",
       "      <th>Close</th>\n",
       "      <th>High</th>\n",
       "      <th>Low</th>\n",
       "      <th>Open</th>\n",
       "      <th>Volume</th>\n",
       "    </tr>\n",
       "    <tr>\n",
       "      <th>Ticker</th>\n",
       "      <th>TSLA</th>\n",
       "      <th>TSLA</th>\n",
       "      <th>TSLA</th>\n",
       "      <th>TSLA</th>\n",
       "      <th>TSLA</th>\n",
       "    </tr>\n",
       "    <tr>\n",
       "      <th>Date</th>\n",
       "      <th></th>\n",
       "      <th></th>\n",
       "      <th></th>\n",
       "      <th></th>\n",
       "      <th></th>\n",
       "    </tr>\n",
       "  </thead>\n",
       "  <tbody>\n",
       "    <tr>\n",
       "      <th>2020-01-02</th>\n",
       "      <td>28.684000</td>\n",
       "      <td>28.713333</td>\n",
       "      <td>28.114000</td>\n",
       "      <td>28.299999</td>\n",
       "      <td>142981500</td>\n",
       "    </tr>\n",
       "    <tr>\n",
       "      <th>2020-01-03</th>\n",
       "      <td>29.534000</td>\n",
       "      <td>30.266666</td>\n",
       "      <td>29.128000</td>\n",
       "      <td>29.366667</td>\n",
       "      <td>266677500</td>\n",
       "    </tr>\n",
       "    <tr>\n",
       "      <th>2020-01-06</th>\n",
       "      <td>30.102667</td>\n",
       "      <td>30.104000</td>\n",
       "      <td>29.333332</td>\n",
       "      <td>29.364668</td>\n",
       "      <td>151995000</td>\n",
       "    </tr>\n",
       "    <tr>\n",
       "      <th>2020-01-07</th>\n",
       "      <td>31.270666</td>\n",
       "      <td>31.441999</td>\n",
       "      <td>30.224001</td>\n",
       "      <td>30.760000</td>\n",
       "      <td>268231500</td>\n",
       "    </tr>\n",
       "    <tr>\n",
       "      <th>2020-01-08</th>\n",
       "      <td>32.809334</td>\n",
       "      <td>33.232666</td>\n",
       "      <td>31.215334</td>\n",
       "      <td>31.580000</td>\n",
       "      <td>467164500</td>\n",
       "    </tr>\n",
       "  </tbody>\n",
       "</table>\n",
       "</div>"
      ],
      "text/plain": [
       "Price           Close       High        Low       Open     Volume\n",
       "Ticker           TSLA       TSLA       TSLA       TSLA       TSLA\n",
       "Date                                                             \n",
       "2020-01-02  28.684000  28.713333  28.114000  28.299999  142981500\n",
       "2020-01-03  29.534000  30.266666  29.128000  29.366667  266677500\n",
       "2020-01-06  30.102667  30.104000  29.333332  29.364668  151995000\n",
       "2020-01-07  31.270666  31.441999  30.224001  30.760000  268231500\n",
       "2020-01-08  32.809334  33.232666  31.215334  31.580000  467164500"
      ]
     },
     "execution_count": 7,
     "metadata": {},
     "output_type": "execute_result"
    }
   ],
   "source": [
    "ticker = \"TSLA\"  # TikTok (티커 코드 예시)\n",
    "tesla_data = yf.download(ticker, start=\"2020-01-01\", end=\"2023-12-31\")\n",
    "tesla_data.head()"
   ]
  },
  {
   "cell_type": "markdown",
   "metadata": {},
   "source": [
    "## 2. 연습 문제 예제 생성"
   ]
  },
  {
   "cell_type": "markdown",
   "metadata": {},
   "source": [
    "### 문제 1: 특정 날짜의 주가 정보 가져오기\n"
   ]
  },
  {
   "cell_type": "code",
   "execution_count": null,
   "metadata": {},
   "outputs": [],
   "source": []
  },
  {
   "cell_type": "markdown",
   "metadata": {},
   "source": [
    "연습 문제 제안\n",
    "문제 1: 특정 날짜의 데이터 가져오기\n",
    "python\n",
    "코드 복사\n",
    "# 질문: 2023년 5월 15일의 데이터를 가져오세요.\n",
    "\n",
    "문제 2: 특정 기간의 데이터 가져오기\n",
    "python\n",
    "코드 복사\n",
    "# 질문: 2022년 전체 데이터만 추출하세요.\n",
    "\n",
    "문제 3: 조건에 맞는 데이터 필터링\n",
    "python\n",
    "코드 복사\n",
    "# 질문: 종가가 2달러 이하인 날의 데이터를 추출하세요.\n",
    "\n",
    "문제 4: 거래량이 많은 날 분석\n",
    "python\n",
    "코드 복사\n",
    "# 질문: 거래량이 2백만 이상인 데이터를 추출하고, 해당 데이터의 평균 종가를 계산하세요.\n",
    "\n",
    "\n",
    "\n"
   ]
  },
  {
   "cell_type": "markdown",
   "metadata": {},
   "source": [
    "문제 5: 시각화\n",
    "\n",
    "# 질문: 2021년 데이터를 사용하여 종가(Close)와 거래량(Volume)의 트렌드를 시각화하세요."
   ]
  },
  {
   "cell_type": "code",
   "execution_count": null,
   "metadata": {},
   "outputs": [],
   "source": [
    "\n",
    "plt.figure(figsize=(12, 6))\n",
    "plt.plot(one_year_data.index, one_year_data[\"Close\"], label=\"Close Price\", color=\"blue\")\n",
    "plt.bar(one_year_data.index, one_year_data[\"Volume\"], label=\"Volume\", color=\"orange\", alpha=0.5)\n",
    "plt.title(\"TikTok Stock Close Price and Volume in 2021\")\n",
    "plt.xlabel(\"Date\")\n",
    "plt.ylabel(\"Value\")\n",
    "plt.legend()\n",
    "plt.show()\n"
   ]
  }
 ],
 "metadata": {
  "kernelspec": {
   "display_name": "Python 3",
   "language": "python",
   "name": "python3"
  },
  "language_info": {
   "codemirror_mode": {
    "name": "ipython",
    "version": 3
   },
   "file_extension": ".py",
   "mimetype": "text/x-python",
   "name": "python",
   "nbconvert_exporter": "python",
   "pygments_lexer": "ipython3",
   "version": "3.9.13"
  }
 },
 "nbformat": 4,
 "nbformat_minor": 2
}
