{
  "cells": [
    {
      "cell_type": "markdown",
      "metadata": {
        "id": "-7RY74DAVMbP"
      },
      "source": [
        "# Pandas 데이터 분석 연습 문제: 시애틀 자전거 통행량\n",
        "\n",
        "이 문제는 시애틀의 Fremont Bridge 자전거 통행량 데이터를 분석하는 연습을 제공합니다. pandas를 활용하여 데이터 전처리, 날짜 기반 분석, 날씨 데이터 병합 및 상관관계 분석을 수행합니다. (p234 참고)\n",
        "\n",
        "---"
      ]
    },
    {
      "cell_type": "markdown",
      "metadata": {
        "id": "xJ65b-27V_zF"
      },
      "source": [
        "<img src=\"https://images.seattletimes.com/wp-content/uploads/2020/01/01022020_bike-count_114545.jpg?d=2040x1360\" width=400>\n",
        "\n",
        "Ken Lambert, \"Bike ridership hits record highs on 2 Seattle routes\", The Seattle Times, Jan. 6, 2020"
      ]
    },
    {
      "cell_type": "code",
      "execution_count": 1,
      "metadata": {},
      "outputs": [],
      "source": [
        "import numpy as np\n",
        "import pandas as pd"
      ]
    },
    {
      "cell_type": "markdown",
      "metadata": {
        "id": "XiY3C8DA8ZMv"
      },
      "source": [
        "\n",
        "## 1. 자전거 통행량 데이터 기본 전처리\n",
        "\n",
        "FremontBridge.csv 파일을 사용하여 시애틀 다리의 자전거 통행량 데이터를 불러오고 기본적인 전처리 작업을 수행합니다."
      ]
    },
    {
      "cell_type": "code",
      "execution_count": 2,
      "metadata": {},
      "outputs": [],
      "source": [
        "bicycle_url = 'https://raw.githubusercontent.com/jakevdp/bicycle-data/refs/heads/main/FremontBridge.csv'\n",
        "bicycle_df = pd.read_csv(bicycle_url)"
      ]
    },
    {
      "cell_type": "code",
      "execution_count": 3,
      "metadata": {},
      "outputs": [
        {
          "data": {
            "text/html": [
              "<div>\n",
              "<style scoped>\n",
              "    .dataframe tbody tr th:only-of-type {\n",
              "        vertical-align: middle;\n",
              "    }\n",
              "\n",
              "    .dataframe tbody tr th {\n",
              "        vertical-align: top;\n",
              "    }\n",
              "\n",
              "    .dataframe thead th {\n",
              "        text-align: right;\n",
              "    }\n",
              "</style>\n",
              "<table border=\"1\" class=\"dataframe\">\n",
              "  <thead>\n",
              "    <tr style=\"text-align: right;\">\n",
              "      <th></th>\n",
              "      <th>Date</th>\n",
              "      <th>Fremont Bridge Total</th>\n",
              "      <th>Fremont Bridge East Sidewalk</th>\n",
              "      <th>Fremont Bridge West Sidewalk</th>\n",
              "    </tr>\n",
              "  </thead>\n",
              "  <tbody>\n",
              "    <tr>\n",
              "      <th>0</th>\n",
              "      <td>11/01/2019 12:00:00 AM</td>\n",
              "      <td>12.0</td>\n",
              "      <td>7.0</td>\n",
              "      <td>5.0</td>\n",
              "    </tr>\n",
              "    <tr>\n",
              "      <th>1</th>\n",
              "      <td>11/01/2019 01:00:00 AM</td>\n",
              "      <td>7.0</td>\n",
              "      <td>0.0</td>\n",
              "      <td>7.0</td>\n",
              "    </tr>\n",
              "    <tr>\n",
              "      <th>2</th>\n",
              "      <td>11/01/2019 02:00:00 AM</td>\n",
              "      <td>1.0</td>\n",
              "      <td>0.0</td>\n",
              "      <td>1.0</td>\n",
              "    </tr>\n",
              "    <tr>\n",
              "      <th>3</th>\n",
              "      <td>11/01/2019 03:00:00 AM</td>\n",
              "      <td>6.0</td>\n",
              "      <td>6.0</td>\n",
              "      <td>0.0</td>\n",
              "    </tr>\n",
              "    <tr>\n",
              "      <th>4</th>\n",
              "      <td>11/01/2019 04:00:00 AM</td>\n",
              "      <td>6.0</td>\n",
              "      <td>5.0</td>\n",
              "      <td>1.0</td>\n",
              "    </tr>\n",
              "  </tbody>\n",
              "</table>\n",
              "</div>"
            ],
            "text/plain": [
              "                     Date  Fremont Bridge Total  Fremont Bridge East Sidewalk  \\\n",
              "0  11/01/2019 12:00:00 AM                  12.0                           7.0   \n",
              "1  11/01/2019 01:00:00 AM                   7.0                           0.0   \n",
              "2  11/01/2019 02:00:00 AM                   1.0                           0.0   \n",
              "3  11/01/2019 03:00:00 AM                   6.0                           6.0   \n",
              "4  11/01/2019 04:00:00 AM                   6.0                           5.0   \n",
              "\n",
              "   Fremont Bridge West Sidewalk  \n",
              "0                           5.0  \n",
              "1                           7.0  \n",
              "2                           1.0  \n",
              "3                           0.0  \n",
              "4                           1.0  "
            ]
          },
          "execution_count": 3,
          "metadata": {},
          "output_type": "execute_result"
        }
      ],
      "source": [
        "bicycle_df.head()"
      ]
    },
    {
      "cell_type": "code",
      "execution_count": 4,
      "metadata": {
        "id": "MkflPU7pQveJ"
      },
      "outputs": [
        {
          "name": "stdout",
          "output_type": "stream",
          "text": [
            "<class 'pandas.core.frame.DataFrame'>\n",
            "RangeIndex: 147278 entries, 0 to 147277\n",
            "Data columns (total 4 columns):\n",
            " #   Column                        Non-Null Count   Dtype  \n",
            "---  ------                        --------------   -----  \n",
            " 0   Date                          147278 non-null  object \n",
            " 1   Fremont Bridge Total          147256 non-null  float64\n",
            " 2   Fremont Bridge East Sidewalk  147256 non-null  float64\n",
            " 3   Fremont Bridge West Sidewalk  147255 non-null  float64\n",
            "dtypes: float64(3), object(1)\n",
            "memory usage: 4.5+ MB\n"
          ]
        }
      ],
      "source": [
        "bicycle_df.info()"
      ]
    },
    {
      "cell_type": "code",
      "execution_count": 5,
      "metadata": {},
      "outputs": [
        {
          "data": {
            "text/plain": [
              "np.int64(22)"
            ]
          },
          "execution_count": 5,
          "metadata": {},
          "output_type": "execute_result"
        }
      ],
      "source": [
        "bicycle_df['Fremont Bridge Total'].isna().sum()"
      ]
    },
    {
      "cell_type": "code",
      "execution_count": 6,
      "metadata": {},
      "outputs": [
        {
          "data": {
            "text/plain": [
              "np.int64(22)"
            ]
          },
          "execution_count": 6,
          "metadata": {},
          "output_type": "execute_result"
        }
      ],
      "source": [
        "bicycle_df['Fremont Bridge East Sidewalk'].isna().sum()"
      ]
    },
    {
      "cell_type": "code",
      "execution_count": 7,
      "metadata": {},
      "outputs": [
        {
          "data": {
            "text/plain": [
              "np.int64(23)"
            ]
          },
          "execution_count": 7,
          "metadata": {},
          "output_type": "execute_result"
        }
      ],
      "source": [
        "bicycle_df['Fremont Bridge West Sidewalk'].isna().sum()"
      ]
    },
    {
      "cell_type": "markdown",
      "metadata": {
        "id": "TDxJJOsC78bL"
      },
      "source": [
        "\n",
        "\n",
        "\n",
        "### 1.1 데이터 읽기\n",
        "\n",
        "- **목표**: FremontBridge.csv 파일을 pandas DataFrame으로 읽어와 df_bike 변수에 저장합니다.\n",
        "- **힌트**:\n",
        "    - pandas의 read_csv 함수를 사용하세요.\n",
        "    - 파일의 경로와 이름을 인자로 전달합니다. (url: 'https://raw.githubusercontent.com/jakevdp/bicycle-data/refs/heads/main/FremontBridge.csv')\n",
        "\n"
      ]
    },
    {
      "cell_type": "code",
      "execution_count": 8,
      "metadata": {
        "id": "yF1n57X479jt"
      },
      "outputs": [],
      "source": [
        "bicycle_url = 'https://raw.githubusercontent.com/jakevdp/bicycle-data/refs/heads/main/FremontBridge.csv'\n",
        "df_bike = pd.read_csv(bicycle_url)"
      ]
    },
    {
      "cell_type": "markdown",
      "metadata": {
        "id": "P9FnyJtk8DzZ"
      },
      "source": [
        "### 1.2 데이터 미리보기\n",
        "\n",
        "- **목표**: df_bike DataFrame의 처음 5개 행을 출력하여 데이터 구조와 값을 확인합니다.\n",
        "- **힌트**:\n",
        "    - DataFrame의 head 메서드를 사용하면 처음 5개 행을 확인할 수 있습니다.\n",
        "\n"
      ]
    },
    {
      "cell_type": "code",
      "execution_count": 9,
      "metadata": {
        "id": "pWLfeVCN8GsD"
      },
      "outputs": [
        {
          "data": {
            "text/html": [
              "<div>\n",
              "<style scoped>\n",
              "    .dataframe tbody tr th:only-of-type {\n",
              "        vertical-align: middle;\n",
              "    }\n",
              "\n",
              "    .dataframe tbody tr th {\n",
              "        vertical-align: top;\n",
              "    }\n",
              "\n",
              "    .dataframe thead th {\n",
              "        text-align: right;\n",
              "    }\n",
              "</style>\n",
              "<table border=\"1\" class=\"dataframe\">\n",
              "  <thead>\n",
              "    <tr style=\"text-align: right;\">\n",
              "      <th></th>\n",
              "      <th>Date</th>\n",
              "      <th>Fremont Bridge Total</th>\n",
              "      <th>Fremont Bridge East Sidewalk</th>\n",
              "      <th>Fremont Bridge West Sidewalk</th>\n",
              "    </tr>\n",
              "  </thead>\n",
              "  <tbody>\n",
              "    <tr>\n",
              "      <th>0</th>\n",
              "      <td>11/01/2019 12:00:00 AM</td>\n",
              "      <td>12.0</td>\n",
              "      <td>7.0</td>\n",
              "      <td>5.0</td>\n",
              "    </tr>\n",
              "    <tr>\n",
              "      <th>1</th>\n",
              "      <td>11/01/2019 01:00:00 AM</td>\n",
              "      <td>7.0</td>\n",
              "      <td>0.0</td>\n",
              "      <td>7.0</td>\n",
              "    </tr>\n",
              "    <tr>\n",
              "      <th>2</th>\n",
              "      <td>11/01/2019 02:00:00 AM</td>\n",
              "      <td>1.0</td>\n",
              "      <td>0.0</td>\n",
              "      <td>1.0</td>\n",
              "    </tr>\n",
              "    <tr>\n",
              "      <th>3</th>\n",
              "      <td>11/01/2019 03:00:00 AM</td>\n",
              "      <td>6.0</td>\n",
              "      <td>6.0</td>\n",
              "      <td>0.0</td>\n",
              "    </tr>\n",
              "    <tr>\n",
              "      <th>4</th>\n",
              "      <td>11/01/2019 04:00:00 AM</td>\n",
              "      <td>6.0</td>\n",
              "      <td>5.0</td>\n",
              "      <td>1.0</td>\n",
              "    </tr>\n",
              "  </tbody>\n",
              "</table>\n",
              "</div>"
            ],
            "text/plain": [
              "                     Date  Fremont Bridge Total  Fremont Bridge East Sidewalk  \\\n",
              "0  11/01/2019 12:00:00 AM                  12.0                           7.0   \n",
              "1  11/01/2019 01:00:00 AM                   7.0                           0.0   \n",
              "2  11/01/2019 02:00:00 AM                   1.0                           0.0   \n",
              "3  11/01/2019 03:00:00 AM                   6.0                           6.0   \n",
              "4  11/01/2019 04:00:00 AM                   6.0                           5.0   \n",
              "\n",
              "   Fremont Bridge West Sidewalk  \n",
              "0                           5.0  \n",
              "1                           7.0  \n",
              "2                           1.0  \n",
              "3                           0.0  \n",
              "4                           1.0  "
            ]
          },
          "execution_count": 9,
          "metadata": {},
          "output_type": "execute_result"
        }
      ],
      "source": [
        "df_bike.head()"
      ]
    },
    {
      "cell_type": "markdown",
      "metadata": {
        "id": "ilZYkqYo8HIQ"
      },
      "source": [
        "### 1.3 데이터 요약 정보 확인\n",
        "\n",
        "- **목표**: df_bike DataFrame의 컬럼명, 데이터 타입, 유효 값 개수, 메모리 사용량 등 요약 정보를 확인합니다.\n",
        "- **힌트**:\n",
        "    - DataFrame의 info 메서드를 호출하여 요약 정보를 확인하세요.\n",
        "\n"
      ]
    },
    {
      "cell_type": "code",
      "execution_count": 10,
      "metadata": {
        "id": "jkN8n57n8I3y"
      },
      "outputs": [
        {
          "name": "stdout",
          "output_type": "stream",
          "text": [
            "<class 'pandas.core.frame.DataFrame'>\n",
            "RangeIndex: 147278 entries, 0 to 147277\n",
            "Data columns (total 4 columns):\n",
            " #   Column                        Non-Null Count   Dtype  \n",
            "---  ------                        --------------   -----  \n",
            " 0   Date                          147278 non-null  object \n",
            " 1   Fremont Bridge Total          147256 non-null  float64\n",
            " 2   Fremont Bridge East Sidewalk  147256 non-null  float64\n",
            " 3   Fremont Bridge West Sidewalk  147255 non-null  float64\n",
            "dtypes: float64(3), object(1)\n",
            "memory usage: 4.5+ MB\n"
          ]
        }
      ],
      "source": [
        "df_bike.info()"
      ]
    },
    {
      "cell_type": "markdown",
      "metadata": {
        "id": "4CpC0Hkz8JIz"
      },
      "source": [
        "### 1.4 데이터 타입 및 누락값 상세 확인\n",
        "\n",
        "- **목표**: 각 컬럼의 데이터 타입과 누락값(NaN)의 개수를 확인합니다.\n",
        "- **힌트**:\n",
        "    - 데이터 타입은 dtypes 속성으로 확인합니다.\n",
        "    - 누락값은 isnull 메서드와 sum 메서드를 조합하여 컬럼별 합계를 계산합니다.\n",
        "\n"
      ]
    },
    {
      "cell_type": "code",
      "execution_count": 11,
      "metadata": {
        "id": "gHG8yUTA8K-H"
      },
      "outputs": [
        {
          "data": {
            "text/plain": [
              "Date                             object\n",
              "Fremont Bridge Total            float64\n",
              "Fremont Bridge East Sidewalk    float64\n",
              "Fremont Bridge West Sidewalk    float64\n",
              "dtype: object"
            ]
          },
          "execution_count": 11,
          "metadata": {},
          "output_type": "execute_result"
        }
      ],
      "source": [
        "df_bike.dtypes"
      ]
    },
    {
      "cell_type": "code",
      "execution_count": 12,
      "metadata": {},
      "outputs": [
        {
          "data": {
            "text/plain": [
              "Date                             0\n",
              "Fremont Bridge Total            22\n",
              "Fremont Bridge East Sidewalk    22\n",
              "Fremont Bridge West Sidewalk    23\n",
              "dtype: int64"
            ]
          },
          "execution_count": 12,
          "metadata": {},
          "output_type": "execute_result"
        }
      ],
      "source": [
        "df_bike.isna().sum()"
      ]
    },
    {
      "cell_type": "markdown",
      "metadata": {
        "id": "QCKW6mXE8Le_"
      },
      "source": [
        "### 1.5 컬럼명 변경\n",
        "\n",
        "- **목표**: df_bike DataFrame의 컬럼명을 다음과 같이 변경합니다:\n",
        "    - Fremont Bridge Total → Total\n",
        "    - Fremont Bridge East Sidewalk → East\n",
        "    - Fremont Bridge West Sidewalk → West"
      ]
    },
    {
      "cell_type": "code",
      "execution_count": 13,
      "metadata": {
        "id": "vEZn0EBp8NVf"
      },
      "outputs": [],
      "source": [
        "df_bike.columns = ['DATE','Total', 'West', 'East']"
      ]
    },
    {
      "cell_type": "code",
      "execution_count": 14,
      "metadata": {},
      "outputs": [
        {
          "data": {
            "text/html": [
              "<div>\n",
              "<style scoped>\n",
              "    .dataframe tbody tr th:only-of-type {\n",
              "        vertical-align: middle;\n",
              "    }\n",
              "\n",
              "    .dataframe tbody tr th {\n",
              "        vertical-align: top;\n",
              "    }\n",
              "\n",
              "    .dataframe thead th {\n",
              "        text-align: right;\n",
              "    }\n",
              "</style>\n",
              "<table border=\"1\" class=\"dataframe\">\n",
              "  <thead>\n",
              "    <tr style=\"text-align: right;\">\n",
              "      <th></th>\n",
              "      <th>DATE</th>\n",
              "      <th>Total</th>\n",
              "      <th>West</th>\n",
              "      <th>East</th>\n",
              "    </tr>\n",
              "  </thead>\n",
              "  <tbody>\n",
              "    <tr>\n",
              "      <th>0</th>\n",
              "      <td>11/01/2019 12:00:00 AM</td>\n",
              "      <td>12.0</td>\n",
              "      <td>7.0</td>\n",
              "      <td>5.0</td>\n",
              "    </tr>\n",
              "    <tr>\n",
              "      <th>1</th>\n",
              "      <td>11/01/2019 01:00:00 AM</td>\n",
              "      <td>7.0</td>\n",
              "      <td>0.0</td>\n",
              "      <td>7.0</td>\n",
              "    </tr>\n",
              "    <tr>\n",
              "      <th>2</th>\n",
              "      <td>11/01/2019 02:00:00 AM</td>\n",
              "      <td>1.0</td>\n",
              "      <td>0.0</td>\n",
              "      <td>1.0</td>\n",
              "    </tr>\n",
              "    <tr>\n",
              "      <th>3</th>\n",
              "      <td>11/01/2019 03:00:00 AM</td>\n",
              "      <td>6.0</td>\n",
              "      <td>6.0</td>\n",
              "      <td>0.0</td>\n",
              "    </tr>\n",
              "    <tr>\n",
              "      <th>4</th>\n",
              "      <td>11/01/2019 04:00:00 AM</td>\n",
              "      <td>6.0</td>\n",
              "      <td>5.0</td>\n",
              "      <td>1.0</td>\n",
              "    </tr>\n",
              "  </tbody>\n",
              "</table>\n",
              "</div>"
            ],
            "text/plain": [
              "                     DATE  Total  West  East\n",
              "0  11/01/2019 12:00:00 AM   12.0   7.0   5.0\n",
              "1  11/01/2019 01:00:00 AM    7.0   0.0   7.0\n",
              "2  11/01/2019 02:00:00 AM    1.0   0.0   1.0\n",
              "3  11/01/2019 03:00:00 AM    6.0   6.0   0.0\n",
              "4  11/01/2019 04:00:00 AM    6.0   5.0   1.0"
            ]
          },
          "execution_count": 14,
          "metadata": {},
          "output_type": "execute_result"
        }
      ],
      "source": [
        "df_bike.head()"
      ]
    },
    {
      "cell_type": "markdown",
      "metadata": {
        "id": "96qI6DBI8Ni-"
      },
      "source": [
        "### 1.6 'Date' 컬럼 타입 변경\n",
        "\n",
        "- **목표**: Date 컬럼을 문자열(object)에서 datetime 형식으로 변환하여 df_bike['Date']에 할당합니다.\n",
        "- **힌트**:\n",
        "    - pandas의 to_datetime 함수에 df_bike['Date']를 전달하여 변환합니다.\n",
        "\n"
      ]
    },
    {
      "cell_type": "code",
      "execution_count": 15,
      "metadata": {
        "id": "ZCjxMTDl8Phn"
      },
      "outputs": [],
      "source": [
        "df_bike['DATE'] = pd.to_datetime(df_bike['DATE'],format='%m/%d/%Y %H:%M:%S %p')"
      ]
    },
    {
      "cell_type": "code",
      "execution_count": 16,
      "metadata": {},
      "outputs": [
        {
          "name": "stdout",
          "output_type": "stream",
          "text": [
            "<class 'pandas.core.frame.DataFrame'>\n",
            "RangeIndex: 147278 entries, 0 to 147277\n",
            "Data columns (total 4 columns):\n",
            " #   Column  Non-Null Count   Dtype         \n",
            "---  ------  --------------   -----         \n",
            " 0   DATE    147278 non-null  datetime64[ns]\n",
            " 1   Total   147256 non-null  float64       \n",
            " 2   West    147256 non-null  float64       \n",
            " 3   East    147255 non-null  float64       \n",
            "dtypes: datetime64[ns](1), float64(3)\n",
            "memory usage: 4.5 MB\n"
          ]
        }
      ],
      "source": [
        "df_bike.info()"
      ]
    },
    {
      "cell_type": "markdown",
      "metadata": {
        "id": "5uti2lil8P4_"
      },
      "source": [
        "### 1.7 'Date' 컬럼을 인덱스로 설정\n",
        "\n",
        "- **목표**: datetime 형식으로 변환된 Date 컬럼을 df_bike의 행 인덱스로 설정합니다.\n",
        "- **힌트**:\n",
        "    - set_index 메서드에 Date 컬럼명을 전달합니다.\n",
        "\n"
      ]
    },
    {
      "cell_type": "code",
      "execution_count": 17,
      "metadata": {
        "id": "hhSGfwqY8RfX"
      },
      "outputs": [],
      "source": [
        "df_bike.set_index('DATE', inplace=True)"
      ]
    },
    {
      "cell_type": "code",
      "execution_count": 18,
      "metadata": {},
      "outputs": [
        {
          "data": {
            "text/html": [
              "<div>\n",
              "<style scoped>\n",
              "    .dataframe tbody tr th:only-of-type {\n",
              "        vertical-align: middle;\n",
              "    }\n",
              "\n",
              "    .dataframe tbody tr th {\n",
              "        vertical-align: top;\n",
              "    }\n",
              "\n",
              "    .dataframe thead th {\n",
              "        text-align: right;\n",
              "    }\n",
              "</style>\n",
              "<table border=\"1\" class=\"dataframe\">\n",
              "  <thead>\n",
              "    <tr style=\"text-align: right;\">\n",
              "      <th></th>\n",
              "      <th>Total</th>\n",
              "      <th>West</th>\n",
              "      <th>East</th>\n",
              "    </tr>\n",
              "    <tr>\n",
              "      <th>DATE</th>\n",
              "      <th></th>\n",
              "      <th></th>\n",
              "      <th></th>\n",
              "    </tr>\n",
              "  </thead>\n",
              "  <tbody>\n",
              "    <tr>\n",
              "      <th>2019-11-01 12:00:00</th>\n",
              "      <td>12.0</td>\n",
              "      <td>7.0</td>\n",
              "      <td>5.0</td>\n",
              "    </tr>\n",
              "    <tr>\n",
              "      <th>2019-11-01 01:00:00</th>\n",
              "      <td>7.0</td>\n",
              "      <td>0.0</td>\n",
              "      <td>7.0</td>\n",
              "    </tr>\n",
              "    <tr>\n",
              "      <th>2019-11-01 02:00:00</th>\n",
              "      <td>1.0</td>\n",
              "      <td>0.0</td>\n",
              "      <td>1.0</td>\n",
              "    </tr>\n",
              "    <tr>\n",
              "      <th>2019-11-01 03:00:00</th>\n",
              "      <td>6.0</td>\n",
              "      <td>6.0</td>\n",
              "      <td>0.0</td>\n",
              "    </tr>\n",
              "    <tr>\n",
              "      <th>2019-11-01 04:00:00</th>\n",
              "      <td>6.0</td>\n",
              "      <td>5.0</td>\n",
              "      <td>1.0</td>\n",
              "    </tr>\n",
              "  </tbody>\n",
              "</table>\n",
              "</div>"
            ],
            "text/plain": [
              "                     Total  West  East\n",
              "DATE                                  \n",
              "2019-11-01 12:00:00   12.0   7.0   5.0\n",
              "2019-11-01 01:00:00    7.0   0.0   7.0\n",
              "2019-11-01 02:00:00    1.0   0.0   1.0\n",
              "2019-11-01 03:00:00    6.0   6.0   0.0\n",
              "2019-11-01 04:00:00    6.0   5.0   1.0"
            ]
          },
          "execution_count": 18,
          "metadata": {},
          "output_type": "execute_result"
        }
      ],
      "source": [
        "df_bike.head()"
      ]
    },
    {
      "cell_type": "markdown",
      "metadata": {
        "id": "E2LN9HA78Rwb"
      },
      "source": [
        "### 1.8 누락값 처리\n",
        "\n",
        "- **목표**: Total, East, West 컬럼의 누락값(NaN)을 각 컬럼의 평균값으로 채웁니다.\n",
        "- **힌트**:\n",
        "    - 각 컬럼에 fillna 메서드를 사용하고, 채울 값으로 해당 컬럼의 mean 값을 전달합니다.\n"
      ]
    },
    {
      "cell_type": "code",
      "execution_count": 19,
      "metadata": {},
      "outputs": [
        {
          "data": {
            "text/html": [
              "<div>\n",
              "<style scoped>\n",
              "    .dataframe tbody tr th:only-of-type {\n",
              "        vertical-align: middle;\n",
              "    }\n",
              "\n",
              "    .dataframe tbody tr th {\n",
              "        vertical-align: top;\n",
              "    }\n",
              "\n",
              "    .dataframe thead th {\n",
              "        text-align: right;\n",
              "    }\n",
              "</style>\n",
              "<table border=\"1\" class=\"dataframe\">\n",
              "  <thead>\n",
              "    <tr style=\"text-align: right;\">\n",
              "      <th></th>\n",
              "      <th>Total</th>\n",
              "      <th>West</th>\n",
              "      <th>East</th>\n",
              "    </tr>\n",
              "  </thead>\n",
              "  <tbody>\n",
              "    <tr>\n",
              "      <th>count</th>\n",
              "      <td>147256.000000</td>\n",
              "      <td>147256.000000</td>\n",
              "      <td>147255.000000</td>\n",
              "    </tr>\n",
              "    <tr>\n",
              "      <th>mean</th>\n",
              "      <td>110.340794</td>\n",
              "      <td>50.077504</td>\n",
              "      <td>60.263699</td>\n",
              "    </tr>\n",
              "    <tr>\n",
              "      <th>std</th>\n",
              "      <td>140.421808</td>\n",
              "      <td>64.633895</td>\n",
              "      <td>87.252147</td>\n",
              "    </tr>\n",
              "    <tr>\n",
              "      <th>min</th>\n",
              "      <td>0.000000</td>\n",
              "      <td>0.000000</td>\n",
              "      <td>0.000000</td>\n",
              "    </tr>\n",
              "    <tr>\n",
              "      <th>25%</th>\n",
              "      <td>14.000000</td>\n",
              "      <td>6.000000</td>\n",
              "      <td>7.000000</td>\n",
              "    </tr>\n",
              "    <tr>\n",
              "      <th>50%</th>\n",
              "      <td>60.000000</td>\n",
              "      <td>28.000000</td>\n",
              "      <td>30.000000</td>\n",
              "    </tr>\n",
              "    <tr>\n",
              "      <th>75%</th>\n",
              "      <td>145.000000</td>\n",
              "      <td>68.000000</td>\n",
              "      <td>74.000000</td>\n",
              "    </tr>\n",
              "    <tr>\n",
              "      <th>max</th>\n",
              "      <td>1097.000000</td>\n",
              "      <td>698.000000</td>\n",
              "      <td>850.000000</td>\n",
              "    </tr>\n",
              "  </tbody>\n",
              "</table>\n",
              "</div>"
            ],
            "text/plain": [
              "               Total           West           East\n",
              "count  147256.000000  147256.000000  147255.000000\n",
              "mean      110.340794      50.077504      60.263699\n",
              "std       140.421808      64.633895      87.252147\n",
              "min         0.000000       0.000000       0.000000\n",
              "25%        14.000000       6.000000       7.000000\n",
              "50%        60.000000      28.000000      30.000000\n",
              "75%       145.000000      68.000000      74.000000\n",
              "max      1097.000000     698.000000     850.000000"
            ]
          },
          "execution_count": 19,
          "metadata": {},
          "output_type": "execute_result"
        }
      ],
      "source": [
        "df_bike.describe()"
      ]
    },
    {
      "cell_type": "code",
      "execution_count": 20,
      "metadata": {
        "id": "EFv1kadb8SVf"
      },
      "outputs": [],
      "source": [
        "df_bike.fillna(df_bike.mean(), inplace=True)"
      ]
    },
    {
      "cell_type": "code",
      "execution_count": 21,
      "metadata": {},
      "outputs": [
        {
          "data": {
            "text/html": [
              "<div>\n",
              "<style scoped>\n",
              "    .dataframe tbody tr th:only-of-type {\n",
              "        vertical-align: middle;\n",
              "    }\n",
              "\n",
              "    .dataframe tbody tr th {\n",
              "        vertical-align: top;\n",
              "    }\n",
              "\n",
              "    .dataframe thead th {\n",
              "        text-align: right;\n",
              "    }\n",
              "</style>\n",
              "<table border=\"1\" class=\"dataframe\">\n",
              "  <thead>\n",
              "    <tr style=\"text-align: right;\">\n",
              "      <th></th>\n",
              "      <th>Total</th>\n",
              "      <th>West</th>\n",
              "      <th>East</th>\n",
              "    </tr>\n",
              "  </thead>\n",
              "  <tbody>\n",
              "    <tr>\n",
              "      <th>count</th>\n",
              "      <td>147278.000000</td>\n",
              "      <td>147278.000000</td>\n",
              "      <td>147278.000000</td>\n",
              "    </tr>\n",
              "    <tr>\n",
              "      <th>mean</th>\n",
              "      <td>110.340794</td>\n",
              "      <td>50.077504</td>\n",
              "      <td>60.263699</td>\n",
              "    </tr>\n",
              "    <tr>\n",
              "      <th>std</th>\n",
              "      <td>140.411320</td>\n",
              "      <td>64.629067</td>\n",
              "      <td>87.245334</td>\n",
              "    </tr>\n",
              "    <tr>\n",
              "      <th>min</th>\n",
              "      <td>0.000000</td>\n",
              "      <td>0.000000</td>\n",
              "      <td>0.000000</td>\n",
              "    </tr>\n",
              "    <tr>\n",
              "      <th>25%</th>\n",
              "      <td>14.000000</td>\n",
              "      <td>6.000000</td>\n",
              "      <td>7.000000</td>\n",
              "    </tr>\n",
              "    <tr>\n",
              "      <th>50%</th>\n",
              "      <td>60.000000</td>\n",
              "      <td>28.000000</td>\n",
              "      <td>30.000000</td>\n",
              "    </tr>\n",
              "    <tr>\n",
              "      <th>75%</th>\n",
              "      <td>145.000000</td>\n",
              "      <td>68.000000</td>\n",
              "      <td>74.000000</td>\n",
              "    </tr>\n",
              "    <tr>\n",
              "      <th>max</th>\n",
              "      <td>1097.000000</td>\n",
              "      <td>698.000000</td>\n",
              "      <td>850.000000</td>\n",
              "    </tr>\n",
              "  </tbody>\n",
              "</table>\n",
              "</div>"
            ],
            "text/plain": [
              "               Total           West           East\n",
              "count  147278.000000  147278.000000  147278.000000\n",
              "mean      110.340794      50.077504      60.263699\n",
              "std       140.411320      64.629067      87.245334\n",
              "min         0.000000       0.000000       0.000000\n",
              "25%        14.000000       6.000000       7.000000\n",
              "50%        60.000000      28.000000      30.000000\n",
              "75%       145.000000      68.000000      74.000000\n",
              "max      1097.000000     698.000000     850.000000"
            ]
          },
          "execution_count": 21,
          "metadata": {},
          "output_type": "execute_result"
        }
      ],
      "source": [
        "df_bike.describe()"
      ]
    },
    {
      "cell_type": "code",
      "execution_count": 22,
      "metadata": {},
      "outputs": [
        {
          "name": "stdout",
          "output_type": "stream",
          "text": [
            "<class 'pandas.core.frame.DataFrame'>\n",
            "DatetimeIndex: 147278 entries, 2019-11-01 12:00:00 to 2021-12-31 11:00:00\n",
            "Data columns (total 3 columns):\n",
            " #   Column  Non-Null Count   Dtype  \n",
            "---  ------  --------------   -----  \n",
            " 0   Total   147278 non-null  float64\n",
            " 1   West    147278 non-null  float64\n",
            " 2   East    147278 non-null  float64\n",
            "dtypes: float64(3)\n",
            "memory usage: 4.5 MB\n"
          ]
        }
      ],
      "source": [
        "df_bike.info()"
      ]
    },
    {
      "cell_type": "markdown",
      "metadata": {
        "id": "8b-JQs6B7dSD"
      },
      "source": [
        "\n",
        "\n",
        "## 2. 날짜 관련 데이터 분석 (자전거 통행량)\n",
        "\n",
        "시간 정보를 활용하여 자전거 통행량의 패턴을 분석하고 시각화합니다.\n",
        "\n"
      ]
    },
    {
      "cell_type": "markdown",
      "metadata": {
        "id": "CZ0PVFVI8iAD"
      },
      "source": [
        "### 2.1 주간 단위 총 통행량 시각화\n",
        "\n",
        "- **목표**: Total 컬럼의 일별 통행량을 주간 단위로 합산하여 선 그래프(line plot)로 시각화합니다.\n",
        "- **힌트**:\n",
        "    - Total 컬럼을 선택한 후 resample('W')로 주간 단위로 그룹화하고 sum으로 합계를 계산합니다.\n",
        "    - plot 메서드로 선 그래프를 그립니다.\n",
        "\n"
      ]
    },
    {
      "cell_type": "code",
      "execution_count": 23,
      "metadata": {},
      "outputs": [
        {
          "name": "stdout",
          "output_type": "stream",
          "text": [
            "<class 'pandas.core.frame.DataFrame'>\n",
            "DatetimeIndex: 147278 entries, 2019-11-01 12:00:00 to 2021-12-31 11:00:00\n",
            "Data columns (total 3 columns):\n",
            " #   Column  Non-Null Count   Dtype  \n",
            "---  ------  --------------   -----  \n",
            " 0   Total   147278 non-null  float64\n",
            " 1   West    147278 non-null  float64\n",
            " 2   East    147278 non-null  float64\n",
            "dtypes: float64(3)\n",
            "memory usage: 4.5 MB\n"
          ]
        }
      ],
      "source": [
        "df_bike.info()"
      ]
    },
    {
      "cell_type": "code",
      "execution_count": 24,
      "metadata": {
        "id": "LqvtdXno8kS_"
      },
      "outputs": [
        {
          "data": {
            "text/plain": [
              "<Axes: xlabel='DATE'>"
            ]
          },
          "execution_count": 24,
          "metadata": {},
          "output_type": "execute_result"
        },
        {
          "data": {
            "image/png": "[encoded data removed]",
            "text/plain": [
              "<Figure size 640x480 with 1 Axes>"
            ]
          },
          "metadata": {},
          "output_type": "display_data"
        }
      ],
      "source": [
        "df_bike['Total'].resample('W').sum().plot.line()"
      ]
    },
    {
      "cell_type": "markdown",
      "metadata": {
        "id": "byKqxa0_8ksX"
      },
      "source": [
        "### 2.2 시간대별 평균 통행량 시각화\n",
        "\n",
        "- **목표**: 하루 24시간(0~23시)별 평균 Total 통행량을 계산하고 막대 그래프(bar plot)로 시각화합니다.\n",
        "- **힌트**:\n",
        "    - 인덱스의 시간 정보(df_bike.index.hour)를 기준으로 groupby 연산을 수행합니다.\n",
        "    - Total 컬럼의 mean 값을 계산하고 plot(kind='bar')로 막대 그래프를 그립니다.\n",
        "\n"
      ]
    },
    {
      "cell_type": "code",
      "execution_count": 25,
      "metadata": {
        "id": "tnCBQAyt8nL8"
      },
      "outputs": [
        {
          "data": {
            "text/plain": [
              "<Axes: xlabel='DATE'>"
            ]
          },
          "execution_count": 25,
          "metadata": {},
          "output_type": "execute_result"
        },
        {
          "data": {
            "image/png": "[encoded data removed]",
            "text/plain": [
              "<Figure size 640x480 with 1 Axes>"
            ]
          },
          "metadata": {},
          "output_type": "display_data"
        }
      ],
      "source": [
        "df_bike.groupby(df_bike.index.hour)['Total'].mean().plot(kind='bar')"
      ]
    },
    {
      "cell_type": "markdown",
      "metadata": {
        "id": "wYvGfBcC8neT"
      },
      "source": [
        "### 2.3 요일별 평균 통행량 시각화\n",
        "\n",
        "- **목표**: 요일별(월~일) 평균 Total 통행량을 계산하고 막대 그래프로 시각화합니다.\n",
        "- **힌트**:\n",
        "    - 인덱스의 요일 이름(df_bike.index.day_name())을 기준으로 groupby 연산을 수행합니다.\n",
        "    - Total 컬럼의 mean 값을 계산하고 plot(kind='bar')로 막대 그래프를 그립니다.\n",
        "\n"
      ]
    },
    {
      "cell_type": "code",
      "execution_count": 26,
      "metadata": {
        "id": "CNIhut7I8rWT"
      },
      "outputs": [
        {
          "data": {
            "text/plain": [
              "<Axes: xlabel='DATE'>"
            ]
          },
          "execution_count": 26,
          "metadata": {},
          "output_type": "execute_result"
        },
        {
          "data": {
            "image/png": "[encoded data removed]",
            "text/plain": [
              "<Figure size 640x480 with 1 Axes>"
            ]
          },
          "metadata": {},
          "output_type": "display_data"
        }
      ],
      "source": [
        "df_bike.groupby(df_bike.index.day_name())['Total'].mean().plot.bar()"
      ]
    },
    {
      "cell_type": "markdown",
      "metadata": {
        "id": "F8pSRCMl8rnn"
      },
      "source": [
        "### 2.4 요일 및 시간대별 평균 통행량 (Pivot Table)\n",
        "\n",
        "- **목표**: 피벗 테이블을 사용하여 시간대(행)와 요일(열)에 따른 평균 Total 통행량 표를 생성합니다.\n",
        "- **힌트**:\n",
        "    - pivot_table 메서드에서 values='Total', index=df_bike.index.hour, columns=df_bike.index.day_name(), aggfunc='mean'을 지정합니다.\n",
        "\n"
      ]
    },
    {
      "cell_type": "code",
      "execution_count": 27,
      "metadata": {},
      "outputs": [
        {
          "data": {
            "text/plain": [
              "np.True_"
            ]
          },
          "execution_count": 27,
          "metadata": {},
          "output_type": "execute_result"
        }
      ],
      "source": [
        "df_bike.index.duplicated().any()"
      ]
    },
    {
      "cell_type": "code",
      "execution_count": 28,
      "metadata": {
        "id": "RUejvE_j8umv"
      },
      "outputs": [
        {
          "data": {
            "text/html": [
              "<div>\n",
              "<style scoped>\n",
              "    .dataframe tbody tr th:only-of-type {\n",
              "        vertical-align: middle;\n",
              "    }\n",
              "\n",
              "    .dataframe tbody tr th {\n",
              "        vertical-align: top;\n",
              "    }\n",
              "\n",
              "    .dataframe thead th {\n",
              "        text-align: right;\n",
              "    }\n",
              "</style>\n",
              "<table border=\"1\" class=\"dataframe\">\n",
              "  <thead>\n",
              "    <tr style=\"text-align: right;\">\n",
              "      <th>DATE</th>\n",
              "      <th>Friday</th>\n",
              "      <th>Monday</th>\n",
              "      <th>Saturday</th>\n",
              "      <th>Sunday</th>\n",
              "      <th>Thursday</th>\n",
              "      <th>Tuesday</th>\n",
              "      <th>Wednesday</th>\n",
              "    </tr>\n",
              "    <tr>\n",
              "      <th>DATE</th>\n",
              "      <th></th>\n",
              "      <th></th>\n",
              "      <th></th>\n",
              "      <th></th>\n",
              "      <th></th>\n",
              "      <th></th>\n",
              "      <th></th>\n",
              "    </tr>\n",
              "  </thead>\n",
              "  <tbody>\n",
              "    <tr>\n",
              "      <th>1</th>\n",
              "      <td>49.774230</td>\n",
              "      <td>44.808790</td>\n",
              "      <td>74.948059</td>\n",
              "      <td>79.025143</td>\n",
              "      <td>44.863895</td>\n",
              "      <td>43.291096</td>\n",
              "      <td>44.894198</td>\n",
              "    </tr>\n",
              "    <tr>\n",
              "      <th>2</th>\n",
              "      <td>55.931015</td>\n",
              "      <td>50.192352</td>\n",
              "      <td>74.776826</td>\n",
              "      <td>80.557012</td>\n",
              "      <td>49.087130</td>\n",
              "      <td>48.085616</td>\n",
              "      <td>50.000000</td>\n",
              "    </tr>\n",
              "    <tr>\n",
              "      <th>3</th>\n",
              "      <td>78.777081</td>\n",
              "      <td>69.387557</td>\n",
              "      <td>74.122717</td>\n",
              "      <td>75.968000</td>\n",
              "      <td>69.013667</td>\n",
              "      <td>69.691210</td>\n",
              "      <td>70.597610</td>\n",
              "    </tr>\n",
              "    <tr>\n",
              "      <th>4</th>\n",
              "      <td>137.815279</td>\n",
              "      <td>133.158676</td>\n",
              "      <td>69.494863</td>\n",
              "      <td>68.580000</td>\n",
              "      <td>133.272779</td>\n",
              "      <td>140.566210</td>\n",
              "      <td>140.824701</td>\n",
              "    </tr>\n",
              "    <tr>\n",
              "      <th>5</th>\n",
              "      <td>215.868301</td>\n",
              "      <td>261.440639</td>\n",
              "      <td>61.202626</td>\n",
              "      <td>56.789143</td>\n",
              "      <td>252.947039</td>\n",
              "      <td>278.027968</td>\n",
              "      <td>272.295390</td>\n",
              "    </tr>\n",
              "    <tr>\n",
              "      <th>6</th>\n",
              "      <td>173.159065</td>\n",
              "      <td>222.300799</td>\n",
              "      <td>54.415525</td>\n",
              "      <td>47.384000</td>\n",
              "      <td>220.926538</td>\n",
              "      <td>241.492009</td>\n",
              "      <td>238.313603</td>\n",
              "    </tr>\n",
              "    <tr>\n",
              "      <th>7</th>\n",
              "      <td>183.278221</td>\n",
              "      <td>219.223744</td>\n",
              "      <td>48.653539</td>\n",
              "      <td>41.582857</td>\n",
              "      <td>224.465262</td>\n",
              "      <td>246.196918</td>\n",
              "      <td>241.505976</td>\n",
              "    </tr>\n",
              "    <tr>\n",
              "      <th>8</th>\n",
              "      <td>209.509692</td>\n",
              "      <td>244.313927</td>\n",
              "      <td>54.937215</td>\n",
              "      <td>46.172571</td>\n",
              "      <td>248.267084</td>\n",
              "      <td>266.426370</td>\n",
              "      <td>260.305635</td>\n",
              "    </tr>\n",
              "    <tr>\n",
              "      <th>9</th>\n",
              "      <td>124.538587</td>\n",
              "      <td>134.516553</td>\n",
              "      <td>60.486301</td>\n",
              "      <td>51.576571</td>\n",
              "      <td>138.712415</td>\n",
              "      <td>143.601598</td>\n",
              "      <td>145.474104</td>\n",
              "    </tr>\n",
              "    <tr>\n",
              "      <th>10</th>\n",
              "      <td>67.110993</td>\n",
              "      <td>61.660959</td>\n",
              "      <td>64.312215</td>\n",
              "      <td>59.140571</td>\n",
              "      <td>67.355923</td>\n",
              "      <td>65.720890</td>\n",
              "      <td>68.714286</td>\n",
              "    </tr>\n",
              "    <tr>\n",
              "      <th>11</th>\n",
              "      <td>53.148233</td>\n",
              "      <td>46.148402</td>\n",
              "      <td>72.595890</td>\n",
              "      <td>67.859429</td>\n",
              "      <td>49.970957</td>\n",
              "      <td>46.830298</td>\n",
              "      <td>48.194081</td>\n",
              "    </tr>\n",
              "    <tr>\n",
              "      <th>12</th>\n",
              "      <td>48.108894</td>\n",
              "      <td>43.005137</td>\n",
              "      <td>75.368721</td>\n",
              "      <td>77.405143</td>\n",
              "      <td>44.364465</td>\n",
              "      <td>43.539202</td>\n",
              "      <td>44.237201</td>\n",
              "    </tr>\n",
              "  </tbody>\n",
              "</table>\n",
              "</div>"
            ],
            "text/plain": [
              "DATE      Friday      Monday   Saturday     Sunday    Thursday     Tuesday  \\\n",
              "DATE                                                                         \n",
              "1      49.774230   44.808790  74.948059  79.025143   44.863895   43.291096   \n",
              "2      55.931015   50.192352  74.776826  80.557012   49.087130   48.085616   \n",
              "3      78.777081   69.387557  74.122717  75.968000   69.013667   69.691210   \n",
              "4     137.815279  133.158676  69.494863  68.580000  133.272779  140.566210   \n",
              "5     215.868301  261.440639  61.202626  56.789143  252.947039  278.027968   \n",
              "6     173.159065  222.300799  54.415525  47.384000  220.926538  241.492009   \n",
              "7     183.278221  219.223744  48.653539  41.582857  224.465262  246.196918   \n",
              "8     209.509692  244.313927  54.937215  46.172571  248.267084  266.426370   \n",
              "9     124.538587  134.516553  60.486301  51.576571  138.712415  143.601598   \n",
              "10     67.110993   61.660959  64.312215  59.140571   67.355923   65.720890   \n",
              "11     53.148233   46.148402  72.595890  67.859429   49.970957   46.830298   \n",
              "12     48.108894   43.005137  75.368721  77.405143   44.364465   43.539202   \n",
              "\n",
              "DATE   Wednesday  \n",
              "DATE              \n",
              "1      44.894198  \n",
              "2      50.000000  \n",
              "3      70.597610  \n",
              "4     140.824701  \n",
              "5     272.295390  \n",
              "6     238.313603  \n",
              "7     241.505976  \n",
              "8     260.305635  \n",
              "9     145.474104  \n",
              "10     68.714286  \n",
              "11     48.194081  \n",
              "12     44.237201  "
            ]
          },
          "execution_count": 28,
          "metadata": {},
          "output_type": "execute_result"
        }
      ],
      "source": [
        "# pd.crosstab(df_bike.index.hour, df_bike.index.day_name(), values=df_bike['Total'], aggfunc='mean') // 날짜:시간 값 중에 중복이 있어서 오류 남.\n",
        "\n",
        "pd.pivot_table(df_bike, index=df_bike.index.hour, columns=df_bike.index.day_name(), values='Total', aggfunc='mean')"
      ]
    },
    {
      "cell_type": "markdown",
      "metadata": {
        "id": "CUPkgEwR8u2j"
      },
      "source": [
        "### 2.5 30일 이동 평균 통행량 시각화\n",
        "\n",
        "- **목표**: Total 통행량의 30일 이동 평균을 계산하고 선 그래프로 시각화합니다.\n",
        "- **힌트**:\n",
        "    - Total 컬럼에 rolling(window=30)을 적용하고 mean으로 평균을 계산합니다.\n",
        "    - plot 메서드로 선 그래프를 그립니다.\n",
        "\n"
      ]
    },
    {
      "cell_type": "code",
      "execution_count": 29,
      "metadata": {
        "id": "wU9n980WQveN"
      },
      "outputs": [
        {
          "data": {
            "text/plain": [
              "<Axes: xlabel='DATE'>"
            ]
          },
          "execution_count": 29,
          "metadata": {},
          "output_type": "execute_result"
        },
        {
          "data": {
            "image/png": "[encoded data removed]",
            "text/plain": [
              "<Figure size 640x480 with 1 Axes>"
            ]
          },
          "metadata": {},
          "output_type": "display_data"
        }
      ],
      "source": [
        "df_bike.resample('D').sum().rolling(30).sum().plot.line()"
      ]
    },
    {
      "cell_type": "markdown",
      "metadata": {
        "id": "fjvahwiy80Ik"
      },
      "source": [
        "## 3. 날씨 데이터 병합 및 분석\n",
        "\n",
        "SeattleWeather.csv 파일의 날씨 데이터를 읽어와 자전거 통행량 데이터와 병합하여 날씨와 통행량의 관계를 분석합니다."
      ]
    },
    {
      "cell_type": "markdown",
      "metadata": {
        "id": "fmIQcoVV8x2z"
      },
      "source": [
        "\n",
        "### 3.1 날씨 데이터 읽기 및 기본 전처리\n",
        "\n",
        "- **목표**:\n",
        "    - SeattleWeather.csv 파일을 df_weather DataFrame으로 읽습니다. (url: https://raw.githubusercontent.com/jakevdp/bicycle-data/refs/heads/main/SeattleWeather.csv)\n",
        "    - DATE 컬럼을 datetime 형식으로 변환하고 인덱스로 설정합니다.\n",
        "    - PRCP 컬럼의 누락값을 0으로 채웁니다.\n"
      ]
    },
    {
      "cell_type": "code",
      "execution_count": 30,
      "metadata": {
        "id": "_VZBLlP886Zg"
      },
      "outputs": [
        {
          "data": {
            "text/html": [
              "<div>\n",
              "<style scoped>\n",
              "    .dataframe tbody tr th:only-of-type {\n",
              "        vertical-align: middle;\n",
              "    }\n",
              "\n",
              "    .dataframe tbody tr th {\n",
              "        vertical-align: top;\n",
              "    }\n",
              "\n",
              "    .dataframe thead th {\n",
              "        text-align: right;\n",
              "    }\n",
              "</style>\n",
              "<table border=\"1\" class=\"dataframe\">\n",
              "  <thead>\n",
              "    <tr style=\"text-align: right;\">\n",
              "      <th></th>\n",
              "      <th>STATION</th>\n",
              "      <th>NAME</th>\n",
              "      <th>DATE</th>\n",
              "      <th>AWND</th>\n",
              "      <th>FMTM</th>\n",
              "      <th>PGTM</th>\n",
              "      <th>PRCP</th>\n",
              "      <th>SNOW</th>\n",
              "      <th>SNWD</th>\n",
              "      <th>TAVG</th>\n",
              "      <th>...</th>\n",
              "      <th>WT04</th>\n",
              "      <th>WT05</th>\n",
              "      <th>WT08</th>\n",
              "      <th>WT09</th>\n",
              "      <th>WT13</th>\n",
              "      <th>WT14</th>\n",
              "      <th>WT16</th>\n",
              "      <th>WT17</th>\n",
              "      <th>WT18</th>\n",
              "      <th>WT22</th>\n",
              "    </tr>\n",
              "  </thead>\n",
              "  <tbody>\n",
              "    <tr>\n",
              "      <th>0</th>\n",
              "      <td>USW00024233</td>\n",
              "      <td>SEATTLE TACOMA AIRPORT, WA US</td>\n",
              "      <td>2012-01-01</td>\n",
              "      <td>10.51</td>\n",
              "      <td>NaN</td>\n",
              "      <td>NaN</td>\n",
              "      <td>0.00</td>\n",
              "      <td>0.0</td>\n",
              "      <td>0.0</td>\n",
              "      <td>NaN</td>\n",
              "      <td>...</td>\n",
              "      <td>NaN</td>\n",
              "      <td>NaN</td>\n",
              "      <td>NaN</td>\n",
              "      <td>NaN</td>\n",
              "      <td>NaN</td>\n",
              "      <td>1.0</td>\n",
              "      <td>NaN</td>\n",
              "      <td>NaN</td>\n",
              "      <td>NaN</td>\n",
              "      <td>NaN</td>\n",
              "    </tr>\n",
              "    <tr>\n",
              "      <th>1</th>\n",
              "      <td>USW00024233</td>\n",
              "      <td>SEATTLE TACOMA AIRPORT, WA US</td>\n",
              "      <td>2012-01-02</td>\n",
              "      <td>10.07</td>\n",
              "      <td>NaN</td>\n",
              "      <td>NaN</td>\n",
              "      <td>0.43</td>\n",
              "      <td>0.0</td>\n",
              "      <td>0.0</td>\n",
              "      <td>NaN</td>\n",
              "      <td>...</td>\n",
              "      <td>NaN</td>\n",
              "      <td>NaN</td>\n",
              "      <td>NaN</td>\n",
              "      <td>NaN</td>\n",
              "      <td>1.0</td>\n",
              "      <td>NaN</td>\n",
              "      <td>1.0</td>\n",
              "      <td>NaN</td>\n",
              "      <td>NaN</td>\n",
              "      <td>NaN</td>\n",
              "    </tr>\n",
              "    <tr>\n",
              "      <th>2</th>\n",
              "      <td>USW00024233</td>\n",
              "      <td>SEATTLE TACOMA AIRPORT, WA US</td>\n",
              "      <td>2012-01-03</td>\n",
              "      <td>5.14</td>\n",
              "      <td>NaN</td>\n",
              "      <td>NaN</td>\n",
              "      <td>0.03</td>\n",
              "      <td>0.0</td>\n",
              "      <td>0.0</td>\n",
              "      <td>NaN</td>\n",
              "      <td>...</td>\n",
              "      <td>NaN</td>\n",
              "      <td>NaN</td>\n",
              "      <td>NaN</td>\n",
              "      <td>NaN</td>\n",
              "      <td>NaN</td>\n",
              "      <td>NaN</td>\n",
              "      <td>1.0</td>\n",
              "      <td>NaN</td>\n",
              "      <td>NaN</td>\n",
              "      <td>NaN</td>\n",
              "    </tr>\n",
              "    <tr>\n",
              "      <th>3</th>\n",
              "      <td>USW00024233</td>\n",
              "      <td>SEATTLE TACOMA AIRPORT, WA US</td>\n",
              "      <td>2012-01-04</td>\n",
              "      <td>10.51</td>\n",
              "      <td>NaN</td>\n",
              "      <td>NaN</td>\n",
              "      <td>0.80</td>\n",
              "      <td>0.0</td>\n",
              "      <td>0.0</td>\n",
              "      <td>NaN</td>\n",
              "      <td>...</td>\n",
              "      <td>NaN</td>\n",
              "      <td>NaN</td>\n",
              "      <td>NaN</td>\n",
              "      <td>NaN</td>\n",
              "      <td>1.0</td>\n",
              "      <td>NaN</td>\n",
              "      <td>1.0</td>\n",
              "      <td>NaN</td>\n",
              "      <td>NaN</td>\n",
              "      <td>NaN</td>\n",
              "    </tr>\n",
              "    <tr>\n",
              "      <th>4</th>\n",
              "      <td>USW00024233</td>\n",
              "      <td>SEATTLE TACOMA AIRPORT, WA US</td>\n",
              "      <td>2012-01-05</td>\n",
              "      <td>13.65</td>\n",
              "      <td>NaN</td>\n",
              "      <td>NaN</td>\n",
              "      <td>0.05</td>\n",
              "      <td>0.0</td>\n",
              "      <td>0.0</td>\n",
              "      <td>NaN</td>\n",
              "      <td>...</td>\n",
              "      <td>NaN</td>\n",
              "      <td>NaN</td>\n",
              "      <td>NaN</td>\n",
              "      <td>NaN</td>\n",
              "      <td>NaN</td>\n",
              "      <td>NaN</td>\n",
              "      <td>1.0</td>\n",
              "      <td>NaN</td>\n",
              "      <td>NaN</td>\n",
              "      <td>NaN</td>\n",
              "    </tr>\n",
              "  </tbody>\n",
              "</table>\n",
              "<p>5 rows × 29 columns</p>\n",
              "</div>"
            ],
            "text/plain": [
              "       STATION                           NAME        DATE   AWND  FMTM  PGTM  \\\n",
              "0  USW00024233  SEATTLE TACOMA AIRPORT, WA US  2012-01-01  10.51   NaN   NaN   \n",
              "1  USW00024233  SEATTLE TACOMA AIRPORT, WA US  2012-01-02  10.07   NaN   NaN   \n",
              "2  USW00024233  SEATTLE TACOMA AIRPORT, WA US  2012-01-03   5.14   NaN   NaN   \n",
              "3  USW00024233  SEATTLE TACOMA AIRPORT, WA US  2012-01-04  10.51   NaN   NaN   \n",
              "4  USW00024233  SEATTLE TACOMA AIRPORT, WA US  2012-01-05  13.65   NaN   NaN   \n",
              "\n",
              "   PRCP  SNOW  SNWD  TAVG  ...  WT04  WT05  WT08  WT09  WT13  WT14  WT16  \\\n",
              "0  0.00   0.0   0.0   NaN  ...   NaN   NaN   NaN   NaN   NaN   1.0   NaN   \n",
              "1  0.43   0.0   0.0   NaN  ...   NaN   NaN   NaN   NaN   1.0   NaN   1.0   \n",
              "2  0.03   0.0   0.0   NaN  ...   NaN   NaN   NaN   NaN   NaN   NaN   1.0   \n",
              "3  0.80   0.0   0.0   NaN  ...   NaN   NaN   NaN   NaN   1.0   NaN   1.0   \n",
              "4  0.05   0.0   0.0   NaN  ...   NaN   NaN   NaN   NaN   NaN   NaN   1.0   \n",
              "\n",
              "   WT17  WT18  WT22  \n",
              "0   NaN   NaN   NaN  \n",
              "1   NaN   NaN   NaN  \n",
              "2   NaN   NaN   NaN  \n",
              "3   NaN   NaN   NaN  \n",
              "4   NaN   NaN   NaN  \n",
              "\n",
              "[5 rows x 29 columns]"
            ]
          },
          "execution_count": 30,
          "metadata": {},
          "output_type": "execute_result"
        }
      ],
      "source": [
        "weather_url = 'https://raw.githubusercontent.com/jakevdp/bicycle-data/refs/heads/main/SeattleWeather.csv'\n",
        "weather_df = pd.read_csv(weather_url)\n",
        "weather_df.head()"
      ]
    },
    {
      "cell_type": "code",
      "execution_count": 31,
      "metadata": {},
      "outputs": [
        {
          "data": {
            "text/plain": [
              "STATION     object\n",
              "NAME        object\n",
              "DATE        object\n",
              "AWND       float64\n",
              "FMTM       float64\n",
              "PGTM       float64\n",
              "PRCP       float64\n",
              "SNOW       float64\n",
              "SNWD       float64\n",
              "TAVG       float64\n",
              "TMAX         int64\n",
              "TMIN         int64\n",
              "WDF2         int64\n",
              "WDF5       float64\n",
              "WSF2       float64\n",
              "WSF5       float64\n",
              "WT01       float64\n",
              "WT02       float64\n",
              "WT03       float64\n",
              "WT04       float64\n",
              "WT05       float64\n",
              "WT08       float64\n",
              "WT09       float64\n",
              "WT13       float64\n",
              "WT14       float64\n",
              "WT16       float64\n",
              "WT17       float64\n",
              "WT18       float64\n",
              "WT22       float64\n",
              "dtype: object"
            ]
          },
          "execution_count": 31,
          "metadata": {},
          "output_type": "execute_result"
        }
      ],
      "source": [
        "weather_df.dtypes"
      ]
    },
    {
      "cell_type": "code",
      "execution_count": 32,
      "metadata": {},
      "outputs": [],
      "source": [
        "# DATE 컬럼을 datetime 형식으로 변환하고 인덱스로 설정합니다.\n",
        "weather_df['DATE'] = pd.to_datetime(weather_df['DATE'],format='%Y-%m-%d')"
      ]
    },
    {
      "cell_type": "code",
      "execution_count": 33,
      "metadata": {},
      "outputs": [
        {
          "data": {
            "text/html": [
              "<div>\n",
              "<style scoped>\n",
              "    .dataframe tbody tr th:only-of-type {\n",
              "        vertical-align: middle;\n",
              "    }\n",
              "\n",
              "    .dataframe tbody tr th {\n",
              "        vertical-align: top;\n",
              "    }\n",
              "\n",
              "    .dataframe thead th {\n",
              "        text-align: right;\n",
              "    }\n",
              "</style>\n",
              "<table border=\"1\" class=\"dataframe\">\n",
              "  <thead>\n",
              "    <tr style=\"text-align: right;\">\n",
              "      <th></th>\n",
              "      <th>STATION</th>\n",
              "      <th>NAME</th>\n",
              "      <th>AWND</th>\n",
              "      <th>FMTM</th>\n",
              "      <th>PGTM</th>\n",
              "      <th>PRCP</th>\n",
              "      <th>SNOW</th>\n",
              "      <th>SNWD</th>\n",
              "      <th>TAVG</th>\n",
              "      <th>TMAX</th>\n",
              "      <th>...</th>\n",
              "      <th>WT04</th>\n",
              "      <th>WT05</th>\n",
              "      <th>WT08</th>\n",
              "      <th>WT09</th>\n",
              "      <th>WT13</th>\n",
              "      <th>WT14</th>\n",
              "      <th>WT16</th>\n",
              "      <th>WT17</th>\n",
              "      <th>WT18</th>\n",
              "      <th>WT22</th>\n",
              "    </tr>\n",
              "    <tr>\n",
              "      <th>DATE</th>\n",
              "      <th></th>\n",
              "      <th></th>\n",
              "      <th></th>\n",
              "      <th></th>\n",
              "      <th></th>\n",
              "      <th></th>\n",
              "      <th></th>\n",
              "      <th></th>\n",
              "      <th></th>\n",
              "      <th></th>\n",
              "      <th></th>\n",
              "      <th></th>\n",
              "      <th></th>\n",
              "      <th></th>\n",
              "      <th></th>\n",
              "      <th></th>\n",
              "      <th></th>\n",
              "      <th></th>\n",
              "      <th></th>\n",
              "      <th></th>\n",
              "      <th></th>\n",
              "    </tr>\n",
              "  </thead>\n",
              "  <tbody>\n",
              "    <tr>\n",
              "      <th>2012-01-01</th>\n",
              "      <td>USW00024233</td>\n",
              "      <td>SEATTLE TACOMA AIRPORT, WA US</td>\n",
              "      <td>10.51</td>\n",
              "      <td>NaN</td>\n",
              "      <td>NaN</td>\n",
              "      <td>0.00</td>\n",
              "      <td>0.0</td>\n",
              "      <td>0.0</td>\n",
              "      <td>NaN</td>\n",
              "      <td>55</td>\n",
              "      <td>...</td>\n",
              "      <td>NaN</td>\n",
              "      <td>NaN</td>\n",
              "      <td>NaN</td>\n",
              "      <td>NaN</td>\n",
              "      <td>NaN</td>\n",
              "      <td>1.0</td>\n",
              "      <td>NaN</td>\n",
              "      <td>NaN</td>\n",
              "      <td>NaN</td>\n",
              "      <td>NaN</td>\n",
              "    </tr>\n",
              "    <tr>\n",
              "      <th>2012-01-02</th>\n",
              "      <td>USW00024233</td>\n",
              "      <td>SEATTLE TACOMA AIRPORT, WA US</td>\n",
              "      <td>10.07</td>\n",
              "      <td>NaN</td>\n",
              "      <td>NaN</td>\n",
              "      <td>0.43</td>\n",
              "      <td>0.0</td>\n",
              "      <td>0.0</td>\n",
              "      <td>NaN</td>\n",
              "      <td>51</td>\n",
              "      <td>...</td>\n",
              "      <td>NaN</td>\n",
              "      <td>NaN</td>\n",
              "      <td>NaN</td>\n",
              "      <td>NaN</td>\n",
              "      <td>1.0</td>\n",
              "      <td>NaN</td>\n",
              "      <td>1.0</td>\n",
              "      <td>NaN</td>\n",
              "      <td>NaN</td>\n",
              "      <td>NaN</td>\n",
              "    </tr>\n",
              "    <tr>\n",
              "      <th>2012-01-03</th>\n",
              "      <td>USW00024233</td>\n",
              "      <td>SEATTLE TACOMA AIRPORT, WA US</td>\n",
              "      <td>5.14</td>\n",
              "      <td>NaN</td>\n",
              "      <td>NaN</td>\n",
              "      <td>0.03</td>\n",
              "      <td>0.0</td>\n",
              "      <td>0.0</td>\n",
              "      <td>NaN</td>\n",
              "      <td>53</td>\n",
              "      <td>...</td>\n",
              "      <td>NaN</td>\n",
              "      <td>NaN</td>\n",
              "      <td>NaN</td>\n",
              "      <td>NaN</td>\n",
              "      <td>NaN</td>\n",
              "      <td>NaN</td>\n",
              "      <td>1.0</td>\n",
              "      <td>NaN</td>\n",
              "      <td>NaN</td>\n",
              "      <td>NaN</td>\n",
              "    </tr>\n",
              "    <tr>\n",
              "      <th>2012-01-04</th>\n",
              "      <td>USW00024233</td>\n",
              "      <td>SEATTLE TACOMA AIRPORT, WA US</td>\n",
              "      <td>10.51</td>\n",
              "      <td>NaN</td>\n",
              "      <td>NaN</td>\n",
              "      <td>0.80</td>\n",
              "      <td>0.0</td>\n",
              "      <td>0.0</td>\n",
              "      <td>NaN</td>\n",
              "      <td>54</td>\n",
              "      <td>...</td>\n",
              "      <td>NaN</td>\n",
              "      <td>NaN</td>\n",
              "      <td>NaN</td>\n",
              "      <td>NaN</td>\n",
              "      <td>1.0</td>\n",
              "      <td>NaN</td>\n",
              "      <td>1.0</td>\n",
              "      <td>NaN</td>\n",
              "      <td>NaN</td>\n",
              "      <td>NaN</td>\n",
              "    </tr>\n",
              "    <tr>\n",
              "      <th>2012-01-05</th>\n",
              "      <td>USW00024233</td>\n",
              "      <td>SEATTLE TACOMA AIRPORT, WA US</td>\n",
              "      <td>13.65</td>\n",
              "      <td>NaN</td>\n",
              "      <td>NaN</td>\n",
              "      <td>0.05</td>\n",
              "      <td>0.0</td>\n",
              "      <td>0.0</td>\n",
              "      <td>NaN</td>\n",
              "      <td>48</td>\n",
              "      <td>...</td>\n",
              "      <td>NaN</td>\n",
              "      <td>NaN</td>\n",
              "      <td>NaN</td>\n",
              "      <td>NaN</td>\n",
              "      <td>NaN</td>\n",
              "      <td>NaN</td>\n",
              "      <td>1.0</td>\n",
              "      <td>NaN</td>\n",
              "      <td>NaN</td>\n",
              "      <td>NaN</td>\n",
              "    </tr>\n",
              "  </tbody>\n",
              "</table>\n",
              "<p>5 rows × 28 columns</p>\n",
              "</div>"
            ],
            "text/plain": [
              "                STATION                           NAME   AWND  FMTM  PGTM  \\\n",
              "DATE                                                                        \n",
              "2012-01-01  USW00024233  SEATTLE TACOMA AIRPORT, WA US  10.51   NaN   NaN   \n",
              "2012-01-02  USW00024233  SEATTLE TACOMA AIRPORT, WA US  10.07   NaN   NaN   \n",
              "2012-01-03  USW00024233  SEATTLE TACOMA AIRPORT, WA US   5.14   NaN   NaN   \n",
              "2012-01-04  USW00024233  SEATTLE TACOMA AIRPORT, WA US  10.51   NaN   NaN   \n",
              "2012-01-05  USW00024233  SEATTLE TACOMA AIRPORT, WA US  13.65   NaN   NaN   \n",
              "\n",
              "            PRCP  SNOW  SNWD  TAVG  TMAX  ...  WT04  WT05  WT08  WT09  WT13  \\\n",
              "DATE                                      ...                                 \n",
              "2012-01-01  0.00   0.0   0.0   NaN    55  ...   NaN   NaN   NaN   NaN   NaN   \n",
              "2012-01-02  0.43   0.0   0.0   NaN    51  ...   NaN   NaN   NaN   NaN   1.0   \n",
              "2012-01-03  0.03   0.0   0.0   NaN    53  ...   NaN   NaN   NaN   NaN   NaN   \n",
              "2012-01-04  0.80   0.0   0.0   NaN    54  ...   NaN   NaN   NaN   NaN   1.0   \n",
              "2012-01-05  0.05   0.0   0.0   NaN    48  ...   NaN   NaN   NaN   NaN   NaN   \n",
              "\n",
              "            WT14  WT16  WT17  WT18  WT22  \n",
              "DATE                                      \n",
              "2012-01-01   1.0   NaN   NaN   NaN   NaN  \n",
              "2012-01-02   NaN   1.0   NaN   NaN   NaN  \n",
              "2012-01-03   NaN   1.0   NaN   NaN   NaN  \n",
              "2012-01-04   NaN   1.0   NaN   NaN   NaN  \n",
              "2012-01-05   NaN   1.0   NaN   NaN   NaN  \n",
              "\n",
              "[5 rows x 28 columns]"
            ]
          },
          "execution_count": 33,
          "metadata": {},
          "output_type": "execute_result"
        }
      ],
      "source": [
        "\n",
        "weather_df.set_index('DATE', inplace=True)\n",
        "weather_df.head()\n"
      ]
    },
    {
      "cell_type": "code",
      "execution_count": 34,
      "metadata": {},
      "outputs": [
        {
          "data": {
            "text/plain": [
              "DatetimeIndex(['2021-12-18', '2021-12-28', '2021-12-30'], dtype='datetime64[ns]', name='DATE', freq=None)"
            ]
          },
          "execution_count": 34,
          "metadata": {},
          "output_type": "execute_result"
        }
      ],
      "source": [
        "# na인 행들\n",
        "weather_df[weather_df[\"PRCP\"].isna() == True].index"
      ]
    },
    {
      "cell_type": "code",
      "execution_count": 35,
      "metadata": {},
      "outputs": [
        {
          "name": "stderr",
          "output_type": "stream",
          "text": [
            "C:\\Users\\user\\AppData\\Local\\Temp\\ipykernel_1128\\1265677001.py:2: FutureWarning: A value is trying to be set on a copy of a DataFrame or Series through chained assignment using an inplace method.\n",
            "The behavior will change in pandas 3.0. This inplace method will never work because the intermediate object on which we are setting values always behaves as a copy.\n",
            "\n",
            "For example, when doing 'df[col].method(value, inplace=True)', try using 'df.method({col: value}, inplace=True)' or df[col] = df[col].method(value) instead, to perform the operation inplace on the original object.\n",
            "\n",
            "\n",
            "  weather_df['PRCP'].fillna(0, inplace=True)\n",
            "C:\\Users\\user\\AppData\\Local\\Temp\\ipykernel_1128\\1265677001.py:4: FutureWarning: Series.__getitem__ treating keys as positions is deprecated. In a future version, integer keys will always be treated as labels (consistent with DataFrame behavior). To access a value by position, use `ser.iloc[pos]`\n",
            "  weather_df['PRCP'][[3639, 3649, 3651]]\n"
          ]
        },
        {
          "data": {
            "text/plain": [
              "DATE\n",
              "2021-12-18    0.0\n",
              "2021-12-28    0.0\n",
              "2021-12-30    0.0\n",
              "Name: PRCP, dtype: float64"
            ]
          },
          "execution_count": 35,
          "metadata": {},
          "output_type": "execute_result"
        }
      ],
      "source": [
        "# PRCP 컬럼의 누락값을 0으로 채웁니다.\n",
        "weather_df['PRCP'].fillna(0, inplace=True)\n",
        "\n",
        "weather_df['PRCP'][[3639, 3649, 3651]]"
      ]
    },
    {
      "cell_type": "markdown",
      "metadata": {
        "id": "NzgsE2gZ864w"
      },
      "source": [
        "### 3.2 데이터프레임 병합 (Merge)\n",
        "\n",
        "- **목표**: df_bike와 df_weather를 날짜 인덱스를 기준으로 병합하여 df_merged에 저장합니다.\n",
        "- **힌트**:\n",
        "    - pd.merge 함수에 df_bike, df_weather, left_index=True, right_index=True 옵션을 전달합니다.\n",
        "\n"
      ]
    },
    {
      "cell_type": "code",
      "execution_count": 42,
      "metadata": {},
      "outputs": [],
      "source": [
        "df_bike_daily = df_bike.resample('D')[['Total', 'East', 'West']].sum().reset_index()\n",
        "df_bike_daily.set_index('DATE',inplace=True)"
      ]
    },
    {
      "cell_type": "code",
      "execution_count": 37,
      "metadata": {},
      "outputs": [
        {
          "data": {
            "text/html": [
              "<div>\n",
              "<style scoped>\n",
              "    .dataframe tbody tr th:only-of-type {\n",
              "        vertical-align: middle;\n",
              "    }\n",
              "\n",
              "    .dataframe tbody tr th {\n",
              "        vertical-align: top;\n",
              "    }\n",
              "\n",
              "    .dataframe thead th {\n",
              "        text-align: right;\n",
              "    }\n",
              "</style>\n",
              "<table border=\"1\" class=\"dataframe\">\n",
              "  <thead>\n",
              "    <tr style=\"text-align: right;\">\n",
              "      <th></th>\n",
              "      <th>STATION</th>\n",
              "      <th>NAME</th>\n",
              "      <th>AWND</th>\n",
              "      <th>FMTM</th>\n",
              "      <th>PGTM</th>\n",
              "      <th>PRCP</th>\n",
              "      <th>SNOW</th>\n",
              "      <th>SNWD</th>\n",
              "      <th>TAVG</th>\n",
              "      <th>TMAX</th>\n",
              "      <th>...</th>\n",
              "      <th>WT04</th>\n",
              "      <th>WT05</th>\n",
              "      <th>WT08</th>\n",
              "      <th>WT09</th>\n",
              "      <th>WT13</th>\n",
              "      <th>WT14</th>\n",
              "      <th>WT16</th>\n",
              "      <th>WT17</th>\n",
              "      <th>WT18</th>\n",
              "      <th>WT22</th>\n",
              "    </tr>\n",
              "    <tr>\n",
              "      <th>DATE</th>\n",
              "      <th></th>\n",
              "      <th></th>\n",
              "      <th></th>\n",
              "      <th></th>\n",
              "      <th></th>\n",
              "      <th></th>\n",
              "      <th></th>\n",
              "      <th></th>\n",
              "      <th></th>\n",
              "      <th></th>\n",
              "      <th></th>\n",
              "      <th></th>\n",
              "      <th></th>\n",
              "      <th></th>\n",
              "      <th></th>\n",
              "      <th></th>\n",
              "      <th></th>\n",
              "      <th></th>\n",
              "      <th></th>\n",
              "      <th></th>\n",
              "      <th></th>\n",
              "    </tr>\n",
              "  </thead>\n",
              "  <tbody>\n",
              "    <tr>\n",
              "      <th>2012-01-01</th>\n",
              "      <td>USW00024233</td>\n",
              "      <td>SEATTLE TACOMA AIRPORT, WA US</td>\n",
              "      <td>10.51</td>\n",
              "      <td>NaN</td>\n",
              "      <td>NaN</td>\n",
              "      <td>0.00</td>\n",
              "      <td>0.0</td>\n",
              "      <td>0.0</td>\n",
              "      <td>NaN</td>\n",
              "      <td>55</td>\n",
              "      <td>...</td>\n",
              "      <td>NaN</td>\n",
              "      <td>NaN</td>\n",
              "      <td>NaN</td>\n",
              "      <td>NaN</td>\n",
              "      <td>NaN</td>\n",
              "      <td>1.0</td>\n",
              "      <td>NaN</td>\n",
              "      <td>NaN</td>\n",
              "      <td>NaN</td>\n",
              "      <td>NaN</td>\n",
              "    </tr>\n",
              "    <tr>\n",
              "      <th>2012-01-02</th>\n",
              "      <td>USW00024233</td>\n",
              "      <td>SEATTLE TACOMA AIRPORT, WA US</td>\n",
              "      <td>10.07</td>\n",
              "      <td>NaN</td>\n",
              "      <td>NaN</td>\n",
              "      <td>0.43</td>\n",
              "      <td>0.0</td>\n",
              "      <td>0.0</td>\n",
              "      <td>NaN</td>\n",
              "      <td>51</td>\n",
              "      <td>...</td>\n",
              "      <td>NaN</td>\n",
              "      <td>NaN</td>\n",
              "      <td>NaN</td>\n",
              "      <td>NaN</td>\n",
              "      <td>1.0</td>\n",
              "      <td>NaN</td>\n",
              "      <td>1.0</td>\n",
              "      <td>NaN</td>\n",
              "      <td>NaN</td>\n",
              "      <td>NaN</td>\n",
              "    </tr>\n",
              "    <tr>\n",
              "      <th>2012-01-03</th>\n",
              "      <td>USW00024233</td>\n",
              "      <td>SEATTLE TACOMA AIRPORT, WA US</td>\n",
              "      <td>5.14</td>\n",
              "      <td>NaN</td>\n",
              "      <td>NaN</td>\n",
              "      <td>0.03</td>\n",
              "      <td>0.0</td>\n",
              "      <td>0.0</td>\n",
              "      <td>NaN</td>\n",
              "      <td>53</td>\n",
              "      <td>...</td>\n",
              "      <td>NaN</td>\n",
              "      <td>NaN</td>\n",
              "      <td>NaN</td>\n",
              "      <td>NaN</td>\n",
              "      <td>NaN</td>\n",
              "      <td>NaN</td>\n",
              "      <td>1.0</td>\n",
              "      <td>NaN</td>\n",
              "      <td>NaN</td>\n",
              "      <td>NaN</td>\n",
              "    </tr>\n",
              "    <tr>\n",
              "      <th>2012-01-04</th>\n",
              "      <td>USW00024233</td>\n",
              "      <td>SEATTLE TACOMA AIRPORT, WA US</td>\n",
              "      <td>10.51</td>\n",
              "      <td>NaN</td>\n",
              "      <td>NaN</td>\n",
              "      <td>0.80</td>\n",
              "      <td>0.0</td>\n",
              "      <td>0.0</td>\n",
              "      <td>NaN</td>\n",
              "      <td>54</td>\n",
              "      <td>...</td>\n",
              "      <td>NaN</td>\n",
              "      <td>NaN</td>\n",
              "      <td>NaN</td>\n",
              "      <td>NaN</td>\n",
              "      <td>1.0</td>\n",
              "      <td>NaN</td>\n",
              "      <td>1.0</td>\n",
              "      <td>NaN</td>\n",
              "      <td>NaN</td>\n",
              "      <td>NaN</td>\n",
              "    </tr>\n",
              "    <tr>\n",
              "      <th>2012-01-05</th>\n",
              "      <td>USW00024233</td>\n",
              "      <td>SEATTLE TACOMA AIRPORT, WA US</td>\n",
              "      <td>13.65</td>\n",
              "      <td>NaN</td>\n",
              "      <td>NaN</td>\n",
              "      <td>0.05</td>\n",
              "      <td>0.0</td>\n",
              "      <td>0.0</td>\n",
              "      <td>NaN</td>\n",
              "      <td>48</td>\n",
              "      <td>...</td>\n",
              "      <td>NaN</td>\n",
              "      <td>NaN</td>\n",
              "      <td>NaN</td>\n",
              "      <td>NaN</td>\n",
              "      <td>NaN</td>\n",
              "      <td>NaN</td>\n",
              "      <td>1.0</td>\n",
              "      <td>NaN</td>\n",
              "      <td>NaN</td>\n",
              "      <td>NaN</td>\n",
              "    </tr>\n",
              "  </tbody>\n",
              "</table>\n",
              "<p>5 rows × 28 columns</p>\n",
              "</div>"
            ],
            "text/plain": [
              "                STATION                           NAME   AWND  FMTM  PGTM  \\\n",
              "DATE                                                                        \n",
              "2012-01-01  USW00024233  SEATTLE TACOMA AIRPORT, WA US  10.51   NaN   NaN   \n",
              "2012-01-02  USW00024233  SEATTLE TACOMA AIRPORT, WA US  10.07   NaN   NaN   \n",
              "2012-01-03  USW00024233  SEATTLE TACOMA AIRPORT, WA US   5.14   NaN   NaN   \n",
              "2012-01-04  USW00024233  SEATTLE TACOMA AIRPORT, WA US  10.51   NaN   NaN   \n",
              "2012-01-05  USW00024233  SEATTLE TACOMA AIRPORT, WA US  13.65   NaN   NaN   \n",
              "\n",
              "            PRCP  SNOW  SNWD  TAVG  TMAX  ...  WT04  WT05  WT08  WT09  WT13  \\\n",
              "DATE                                      ...                                 \n",
              "2012-01-01  0.00   0.0   0.0   NaN    55  ...   NaN   NaN   NaN   NaN   NaN   \n",
              "2012-01-02  0.43   0.0   0.0   NaN    51  ...   NaN   NaN   NaN   NaN   1.0   \n",
              "2012-01-03  0.03   0.0   0.0   NaN    53  ...   NaN   NaN   NaN   NaN   NaN   \n",
              "2012-01-04  0.80   0.0   0.0   NaN    54  ...   NaN   NaN   NaN   NaN   1.0   \n",
              "2012-01-05  0.05   0.0   0.0   NaN    48  ...   NaN   NaN   NaN   NaN   NaN   \n",
              "\n",
              "            WT14  WT16  WT17  WT18  WT22  \n",
              "DATE                                      \n",
              "2012-01-01   1.0   NaN   NaN   NaN   NaN  \n",
              "2012-01-02   NaN   1.0   NaN   NaN   NaN  \n",
              "2012-01-03   NaN   1.0   NaN   NaN   NaN  \n",
              "2012-01-04   NaN   1.0   NaN   NaN   NaN  \n",
              "2012-01-05   NaN   1.0   NaN   NaN   NaN  \n",
              "\n",
              "[5 rows x 28 columns]"
            ]
          },
          "execution_count": 37,
          "metadata": {},
          "output_type": "execute_result"
        }
      ],
      "source": [
        "weather_df.head()"
      ]
    },
    {
      "cell_type": "code",
      "execution_count": 38,
      "metadata": {},
      "outputs": [
        {
          "name": "stdout",
          "output_type": "stream",
          "text": [
            "datetime64[ns]\n",
            "datetime64[ns]\n"
          ]
        }
      ],
      "source": [
        "print(df_bike.index.dtype)\n",
        "print(weather_df.index.dtype)"
      ]
    },
    {
      "cell_type": "code",
      "execution_count": 43,
      "metadata": {},
      "outputs": [
        {
          "data": {
            "text/html": [
              "<div>\n",
              "<style scoped>\n",
              "    .dataframe tbody tr th:only-of-type {\n",
              "        vertical-align: middle;\n",
              "    }\n",
              "\n",
              "    .dataframe tbody tr th {\n",
              "        vertical-align: top;\n",
              "    }\n",
              "\n",
              "    .dataframe thead th {\n",
              "        text-align: right;\n",
              "    }\n",
              "</style>\n",
              "<table border=\"1\" class=\"dataframe\">\n",
              "  <thead>\n",
              "    <tr style=\"text-align: right;\">\n",
              "      <th></th>\n",
              "      <th>Total</th>\n",
              "      <th>East</th>\n",
              "      <th>West</th>\n",
              "    </tr>\n",
              "    <tr>\n",
              "      <th>DATE</th>\n",
              "      <th></th>\n",
              "      <th></th>\n",
              "      <th></th>\n",
              "    </tr>\n",
              "  </thead>\n",
              "  <tbody>\n",
              "    <tr>\n",
              "      <th>2012-10-03</th>\n",
              "      <td>7042.0</td>\n",
              "      <td>3522.0</td>\n",
              "      <td>3520.0</td>\n",
              "    </tr>\n",
              "    <tr>\n",
              "      <th>2012-10-04</th>\n",
              "      <td>6950.0</td>\n",
              "      <td>3534.0</td>\n",
              "      <td>3416.0</td>\n",
              "    </tr>\n",
              "    <tr>\n",
              "      <th>2012-10-05</th>\n",
              "      <td>6296.0</td>\n",
              "      <td>3180.0</td>\n",
              "      <td>3116.0</td>\n",
              "    </tr>\n",
              "    <tr>\n",
              "      <th>2012-10-06</th>\n",
              "      <td>4012.0</td>\n",
              "      <td>1852.0</td>\n",
              "      <td>2160.0</td>\n",
              "    </tr>\n",
              "    <tr>\n",
              "      <th>2012-10-07</th>\n",
              "      <td>4284.0</td>\n",
              "      <td>1902.0</td>\n",
              "      <td>2382.0</td>\n",
              "    </tr>\n",
              "  </tbody>\n",
              "</table>\n",
              "</div>"
            ],
            "text/plain": [
              "             Total    East    West\n",
              "DATE                              \n",
              "2012-10-03  7042.0  3522.0  3520.0\n",
              "2012-10-04  6950.0  3534.0  3416.0\n",
              "2012-10-05  6296.0  3180.0  3116.0\n",
              "2012-10-06  4012.0  1852.0  2160.0\n",
              "2012-10-07  4284.0  1902.0  2382.0"
            ]
          },
          "execution_count": 43,
          "metadata": {},
          "output_type": "execute_result"
        }
      ],
      "source": [
        "df_bike_daily.head()"
      ]
    },
    {
      "cell_type": "code",
      "execution_count": 44,
      "metadata": {
        "id": "Q8j14mWhQveS"
      },
      "outputs": [
        {
          "data": {
            "text/html": [
              "<div>\n",
              "<style scoped>\n",
              "    .dataframe tbody tr th:only-of-type {\n",
              "        vertical-align: middle;\n",
              "    }\n",
              "\n",
              "    .dataframe tbody tr th {\n",
              "        vertical-align: top;\n",
              "    }\n",
              "\n",
              "    .dataframe thead th {\n",
              "        text-align: right;\n",
              "    }\n",
              "</style>\n",
              "<table border=\"1\" class=\"dataframe\">\n",
              "  <thead>\n",
              "    <tr style=\"text-align: right;\">\n",
              "      <th></th>\n",
              "      <th>Total</th>\n",
              "      <th>East</th>\n",
              "      <th>West</th>\n",
              "      <th>STATION</th>\n",
              "      <th>NAME</th>\n",
              "      <th>AWND</th>\n",
              "      <th>FMTM</th>\n",
              "      <th>PGTM</th>\n",
              "      <th>PRCP</th>\n",
              "      <th>SNOW</th>\n",
              "      <th>...</th>\n",
              "      <th>WT04</th>\n",
              "      <th>WT05</th>\n",
              "      <th>WT08</th>\n",
              "      <th>WT09</th>\n",
              "      <th>WT13</th>\n",
              "      <th>WT14</th>\n",
              "      <th>WT16</th>\n",
              "      <th>WT17</th>\n",
              "      <th>WT18</th>\n",
              "      <th>WT22</th>\n",
              "    </tr>\n",
              "    <tr>\n",
              "      <th>DATE</th>\n",
              "      <th></th>\n",
              "      <th></th>\n",
              "      <th></th>\n",
              "      <th></th>\n",
              "      <th></th>\n",
              "      <th></th>\n",
              "      <th></th>\n",
              "      <th></th>\n",
              "      <th></th>\n",
              "      <th></th>\n",
              "      <th></th>\n",
              "      <th></th>\n",
              "      <th></th>\n",
              "      <th></th>\n",
              "      <th></th>\n",
              "      <th></th>\n",
              "      <th></th>\n",
              "      <th></th>\n",
              "      <th></th>\n",
              "      <th></th>\n",
              "      <th></th>\n",
              "    </tr>\n",
              "  </thead>\n",
              "  <tbody>\n",
              "    <tr>\n",
              "      <th>2012-10-03</th>\n",
              "      <td>7042.0</td>\n",
              "      <td>3522.0</td>\n",
              "      <td>3520.0</td>\n",
              "      <td>USW00024233</td>\n",
              "      <td>SEATTLE TACOMA AIRPORT, WA US</td>\n",
              "      <td>16.33</td>\n",
              "      <td>NaN</td>\n",
              "      <td>NaN</td>\n",
              "      <td>0.00</td>\n",
              "      <td>0.0</td>\n",
              "      <td>...</td>\n",
              "      <td>NaN</td>\n",
              "      <td>NaN</td>\n",
              "      <td>NaN</td>\n",
              "      <td>NaN</td>\n",
              "      <td>NaN</td>\n",
              "      <td>NaN</td>\n",
              "      <td>NaN</td>\n",
              "      <td>NaN</td>\n",
              "      <td>NaN</td>\n",
              "      <td>NaN</td>\n",
              "    </tr>\n",
              "    <tr>\n",
              "      <th>2012-10-04</th>\n",
              "      <td>6950.0</td>\n",
              "      <td>3534.0</td>\n",
              "      <td>3416.0</td>\n",
              "      <td>USW00024233</td>\n",
              "      <td>SEATTLE TACOMA AIRPORT, WA US</td>\n",
              "      <td>14.54</td>\n",
              "      <td>NaN</td>\n",
              "      <td>NaN</td>\n",
              "      <td>0.00</td>\n",
              "      <td>0.0</td>\n",
              "      <td>...</td>\n",
              "      <td>NaN</td>\n",
              "      <td>NaN</td>\n",
              "      <td>NaN</td>\n",
              "      <td>NaN</td>\n",
              "      <td>NaN</td>\n",
              "      <td>NaN</td>\n",
              "      <td>NaN</td>\n",
              "      <td>NaN</td>\n",
              "      <td>NaN</td>\n",
              "      <td>NaN</td>\n",
              "    </tr>\n",
              "    <tr>\n",
              "      <th>2012-10-05</th>\n",
              "      <td>6296.0</td>\n",
              "      <td>3180.0</td>\n",
              "      <td>3116.0</td>\n",
              "      <td>USW00024233</td>\n",
              "      <td>SEATTLE TACOMA AIRPORT, WA US</td>\n",
              "      <td>12.75</td>\n",
              "      <td>NaN</td>\n",
              "      <td>NaN</td>\n",
              "      <td>0.00</td>\n",
              "      <td>0.0</td>\n",
              "      <td>...</td>\n",
              "      <td>NaN</td>\n",
              "      <td>NaN</td>\n",
              "      <td>NaN</td>\n",
              "      <td>NaN</td>\n",
              "      <td>NaN</td>\n",
              "      <td>NaN</td>\n",
              "      <td>NaN</td>\n",
              "      <td>NaN</td>\n",
              "      <td>NaN</td>\n",
              "      <td>NaN</td>\n",
              "    </tr>\n",
              "    <tr>\n",
              "      <th>2012-10-06</th>\n",
              "      <td>4012.0</td>\n",
              "      <td>1852.0</td>\n",
              "      <td>2160.0</td>\n",
              "      <td>USW00024233</td>\n",
              "      <td>SEATTLE TACOMA AIRPORT, WA US</td>\n",
              "      <td>11.41</td>\n",
              "      <td>NaN</td>\n",
              "      <td>NaN</td>\n",
              "      <td>0.00</td>\n",
              "      <td>0.0</td>\n",
              "      <td>...</td>\n",
              "      <td>NaN</td>\n",
              "      <td>NaN</td>\n",
              "      <td>NaN</td>\n",
              "      <td>NaN</td>\n",
              "      <td>NaN</td>\n",
              "      <td>NaN</td>\n",
              "      <td>NaN</td>\n",
              "      <td>NaN</td>\n",
              "      <td>NaN</td>\n",
              "      <td>NaN</td>\n",
              "    </tr>\n",
              "    <tr>\n",
              "      <th>2012-10-07</th>\n",
              "      <td>4284.0</td>\n",
              "      <td>1902.0</td>\n",
              "      <td>2382.0</td>\n",
              "      <td>USW00024233</td>\n",
              "      <td>SEATTLE TACOMA AIRPORT, WA US</td>\n",
              "      <td>2.91</td>\n",
              "      <td>NaN</td>\n",
              "      <td>NaN</td>\n",
              "      <td>0.00</td>\n",
              "      <td>0.0</td>\n",
              "      <td>...</td>\n",
              "      <td>NaN</td>\n",
              "      <td>NaN</td>\n",
              "      <td>NaN</td>\n",
              "      <td>NaN</td>\n",
              "      <td>NaN</td>\n",
              "      <td>NaN</td>\n",
              "      <td>NaN</td>\n",
              "      <td>NaN</td>\n",
              "      <td>NaN</td>\n",
              "      <td>NaN</td>\n",
              "    </tr>\n",
              "    <tr>\n",
              "      <th>...</th>\n",
              "      <td>...</td>\n",
              "      <td>...</td>\n",
              "      <td>...</td>\n",
              "      <td>...</td>\n",
              "      <td>...</td>\n",
              "      <td>...</td>\n",
              "      <td>...</td>\n",
              "      <td>...</td>\n",
              "      <td>...</td>\n",
              "      <td>...</td>\n",
              "      <td>...</td>\n",
              "      <td>...</td>\n",
              "      <td>...</td>\n",
              "      <td>...</td>\n",
              "      <td>...</td>\n",
              "      <td>...</td>\n",
              "      <td>...</td>\n",
              "      <td>...</td>\n",
              "      <td>...</td>\n",
              "      <td>...</td>\n",
              "      <td>...</td>\n",
              "    </tr>\n",
              "    <tr>\n",
              "      <th>2021-12-27</th>\n",
              "      <td>74.0</td>\n",
              "      <td>51.0</td>\n",
              "      <td>23.0</td>\n",
              "      <td>USW00024233</td>\n",
              "      <td>SEATTLE TACOMA AIRPORT, WA US</td>\n",
              "      <td>9.62</td>\n",
              "      <td>NaN</td>\n",
              "      <td>NaN</td>\n",
              "      <td>0.03</td>\n",
              "      <td>0.5</td>\n",
              "      <td>...</td>\n",
              "      <td>NaN</td>\n",
              "      <td>NaN</td>\n",
              "      <td>NaN</td>\n",
              "      <td>NaN</td>\n",
              "      <td>NaN</td>\n",
              "      <td>NaN</td>\n",
              "      <td>NaN</td>\n",
              "      <td>NaN</td>\n",
              "      <td>NaN</td>\n",
              "      <td>NaN</td>\n",
              "    </tr>\n",
              "    <tr>\n",
              "      <th>2021-12-28</th>\n",
              "      <td>91.0</td>\n",
              "      <td>59.0</td>\n",
              "      <td>32.0</td>\n",
              "      <td>USW00024233</td>\n",
              "      <td>SEATTLE TACOMA AIRPORT, WA US</td>\n",
              "      <td>8.50</td>\n",
              "      <td>NaN</td>\n",
              "      <td>NaN</td>\n",
              "      <td>0.00</td>\n",
              "      <td>1.0</td>\n",
              "      <td>...</td>\n",
              "      <td>NaN</td>\n",
              "      <td>NaN</td>\n",
              "      <td>NaN</td>\n",
              "      <td>NaN</td>\n",
              "      <td>NaN</td>\n",
              "      <td>NaN</td>\n",
              "      <td>NaN</td>\n",
              "      <td>NaN</td>\n",
              "      <td>NaN</td>\n",
              "      <td>NaN</td>\n",
              "    </tr>\n",
              "    <tr>\n",
              "      <th>2021-12-29</th>\n",
              "      <td>75.0</td>\n",
              "      <td>43.0</td>\n",
              "      <td>32.0</td>\n",
              "      <td>USW00024233</td>\n",
              "      <td>SEATTLE TACOMA AIRPORT, WA US</td>\n",
              "      <td>8.50</td>\n",
              "      <td>NaN</td>\n",
              "      <td>NaN</td>\n",
              "      <td>0.13</td>\n",
              "      <td>0.9</td>\n",
              "      <td>...</td>\n",
              "      <td>NaN</td>\n",
              "      <td>NaN</td>\n",
              "      <td>NaN</td>\n",
              "      <td>NaN</td>\n",
              "      <td>NaN</td>\n",
              "      <td>NaN</td>\n",
              "      <td>NaN</td>\n",
              "      <td>NaN</td>\n",
              "      <td>NaN</td>\n",
              "      <td>NaN</td>\n",
              "    </tr>\n",
              "    <tr>\n",
              "      <th>2021-12-30</th>\n",
              "      <td>77.0</td>\n",
              "      <td>40.0</td>\n",
              "      <td>37.0</td>\n",
              "      <td>USW00024233</td>\n",
              "      <td>SEATTLE TACOMA AIRPORT, WA US</td>\n",
              "      <td>9.62</td>\n",
              "      <td>NaN</td>\n",
              "      <td>NaN</td>\n",
              "      <td>0.00</td>\n",
              "      <td>3.4</td>\n",
              "      <td>...</td>\n",
              "      <td>NaN</td>\n",
              "      <td>NaN</td>\n",
              "      <td>NaN</td>\n",
              "      <td>NaN</td>\n",
              "      <td>NaN</td>\n",
              "      <td>NaN</td>\n",
              "      <td>NaN</td>\n",
              "      <td>NaN</td>\n",
              "      <td>NaN</td>\n",
              "      <td>NaN</td>\n",
              "    </tr>\n",
              "    <tr>\n",
              "      <th>2021-12-31</th>\n",
              "      <td>52.0</td>\n",
              "      <td>21.0</td>\n",
              "      <td>31.0</td>\n",
              "      <td>USW00024233</td>\n",
              "      <td>SEATTLE TACOMA AIRPORT, WA US</td>\n",
              "      <td>6.71</td>\n",
              "      <td>NaN</td>\n",
              "      <td>NaN</td>\n",
              "      <td>0.00</td>\n",
              "      <td>0.0</td>\n",
              "      <td>...</td>\n",
              "      <td>NaN</td>\n",
              "      <td>NaN</td>\n",
              "      <td>NaN</td>\n",
              "      <td>NaN</td>\n",
              "      <td>NaN</td>\n",
              "      <td>NaN</td>\n",
              "      <td>NaN</td>\n",
              "      <td>NaN</td>\n",
              "      <td>NaN</td>\n",
              "      <td>NaN</td>\n",
              "    </tr>\n",
              "  </tbody>\n",
              "</table>\n",
              "<p>3377 rows × 31 columns</p>\n",
              "</div>"
            ],
            "text/plain": [
              "             Total    East    West      STATION  \\\n",
              "DATE                                              \n",
              "2012-10-03  7042.0  3522.0  3520.0  USW00024233   \n",
              "2012-10-04  6950.0  3534.0  3416.0  USW00024233   \n",
              "2012-10-05  6296.0  3180.0  3116.0  USW00024233   \n",
              "2012-10-06  4012.0  1852.0  2160.0  USW00024233   \n",
              "2012-10-07  4284.0  1902.0  2382.0  USW00024233   \n",
              "...            ...     ...     ...          ...   \n",
              "2021-12-27    74.0    51.0    23.0  USW00024233   \n",
              "2021-12-28    91.0    59.0    32.0  USW00024233   \n",
              "2021-12-29    75.0    43.0    32.0  USW00024233   \n",
              "2021-12-30    77.0    40.0    37.0  USW00024233   \n",
              "2021-12-31    52.0    21.0    31.0  USW00024233   \n",
              "\n",
              "                                     NAME   AWND  FMTM  PGTM  PRCP  SNOW  ...  \\\n",
              "DATE                                                                      ...   \n",
              "2012-10-03  SEATTLE TACOMA AIRPORT, WA US  16.33   NaN   NaN  0.00   0.0  ...   \n",
              "2012-10-04  SEATTLE TACOMA AIRPORT, WA US  14.54   NaN   NaN  0.00   0.0  ...   \n",
              "2012-10-05  SEATTLE TACOMA AIRPORT, WA US  12.75   NaN   NaN  0.00   0.0  ...   \n",
              "2012-10-06  SEATTLE TACOMA AIRPORT, WA US  11.41   NaN   NaN  0.00   0.0  ...   \n",
              "2012-10-07  SEATTLE TACOMA AIRPORT, WA US   2.91   NaN   NaN  0.00   0.0  ...   \n",
              "...                                   ...    ...   ...   ...   ...   ...  ...   \n",
              "2021-12-27  SEATTLE TACOMA AIRPORT, WA US   9.62   NaN   NaN  0.03   0.5  ...   \n",
              "2021-12-28  SEATTLE TACOMA AIRPORT, WA US   8.50   NaN   NaN  0.00   1.0  ...   \n",
              "2021-12-29  SEATTLE TACOMA AIRPORT, WA US   8.50   NaN   NaN  0.13   0.9  ...   \n",
              "2021-12-30  SEATTLE TACOMA AIRPORT, WA US   9.62   NaN   NaN  0.00   3.4  ...   \n",
              "2021-12-31  SEATTLE TACOMA AIRPORT, WA US   6.71   NaN   NaN  0.00   0.0  ...   \n",
              "\n",
              "            WT04  WT05  WT08  WT09  WT13  WT14  WT16  WT17  WT18  WT22  \n",
              "DATE                                                                    \n",
              "2012-10-03   NaN   NaN   NaN   NaN   NaN   NaN   NaN   NaN   NaN   NaN  \n",
              "2012-10-04   NaN   NaN   NaN   NaN   NaN   NaN   NaN   NaN   NaN   NaN  \n",
              "2012-10-05   NaN   NaN   NaN   NaN   NaN   NaN   NaN   NaN   NaN   NaN  \n",
              "2012-10-06   NaN   NaN   NaN   NaN   NaN   NaN   NaN   NaN   NaN   NaN  \n",
              "2012-10-07   NaN   NaN   NaN   NaN   NaN   NaN   NaN   NaN   NaN   NaN  \n",
              "...          ...   ...   ...   ...   ...   ...   ...   ...   ...   ...  \n",
              "2021-12-27   NaN   NaN   NaN   NaN   NaN   NaN   NaN   NaN   NaN   NaN  \n",
              "2021-12-28   NaN   NaN   NaN   NaN   NaN   NaN   NaN   NaN   NaN   NaN  \n",
              "2021-12-29   NaN   NaN   NaN   NaN   NaN   NaN   NaN   NaN   NaN   NaN  \n",
              "2021-12-30   NaN   NaN   NaN   NaN   NaN   NaN   NaN   NaN   NaN   NaN  \n",
              "2021-12-31   NaN   NaN   NaN   NaN   NaN   NaN   NaN   NaN   NaN   NaN  \n",
              "\n",
              "[3377 rows x 31 columns]"
            ]
          },
          "execution_count": 44,
          "metadata": {},
          "output_type": "execute_result"
        }
      ],
      "source": [
        "df_merged = pd.merge(df_bike_daily,weather_df,left_index=True,right_index=True)\n",
        "df_merged"
      ]
    },
    {
      "cell_type": "markdown",
      "metadata": {
        "id": "C9prXIZ48-xH"
      },
      "source": [
        "### 3.3 강수량과 자전거 통행량 관계 분석\n",
        "\n",
        "- **목표**:\n",
        "    - PRCP와 Total 간의 관계를 산점도(scatter plot)로 시각화합니다.\n",
        "    - 두 변수의 상관계수를 계산합니다.\n",
        "- **힌트**:\n",
        "    - df_merged.plot.scatter로 산점도를 그립니다.\n",
        "    - sns.scatterplot 로 산점도를 그립니다.\n",
        "    - df_merged['PRCP'].corr 로 상관계수를 계산합니다.\n",
        "\n"
      ]
    },
    {
      "cell_type": "code",
      "execution_count": 47,
      "metadata": {
        "id": "O8IVLRXWQveT"
      },
      "outputs": [
        {
          "data": {
            "text/plain": [
              "<Axes: xlabel='Total', ylabel='PRCP'>"
            ]
          },
          "execution_count": 47,
          "metadata": {},
          "output_type": "execute_result"
        },
        {
          "data": {
            "image/png": "[encoded data removed]",
            "text/plain": [
              "<Figure size 640x480 with 1 Axes>"
            ]
          },
          "metadata": {},
          "output_type": "display_data"
        }
      ],
      "source": [
        "df_merged.plot.scatter('Total','PRCP')"
      ]
    },
    {
      "cell_type": "markdown",
      "metadata": {
        "id": "QggCf-fn9BIn"
      },
      "source": [
        "### 3.4 기온과 자전거 통행량 관계 분석\n",
        "\n",
        "- **목표**: TAVG(또는 TMAX, TMIN)와 Total 간의 관계를 산점도 또는 구간별 평균 통행량으로 분석합니다.\n",
        "- **힌트**:\n",
        "    - 산점도는 df_merged.plot.scatter(x='TAVG', y='Total')로 그립니다.\n",
        "    - 구간별 분석은 pd.cut으로 기온을 구간화하고 groupby로 평균을 계산한 후 plot으로 시각화합니다.\n"
      ]
    },
    {
      "cell_type": "code",
      "execution_count": null,
      "metadata": {
        "id": "FMiVYbLb9Cu_"
      },
      "outputs": [],
      "source": []
    },
    {
      "cell_type": "markdown",
      "metadata": {
        "id": "5WsbzMNx9DMv"
      },
      "source": [
        "\n",
        "### 3.5 날씨 조건에 따른 통행량 비교\n",
        "\n",
        "- **목표**: 비가 온 날(PRCP > 0)과 비가 오지 않은 날(PRCP = 0)의 평균 Total 통행량을 비교합니다.\n",
        "- **힌트**:\n",
        "    - 불리언 인덱싱으로 조건 (비가 온 날과 비가 오지 않은 날)을 설정합니다."
      ]
    },
    {
      "cell_type": "code",
      "execution_count": null,
      "metadata": {
        "id": "5DKgb53v9D0z"
      },
      "outputs": [],
      "source": []
    }
  ],
  "metadata": {
    "colab": {
      "provenance": []
    },
    "kernelspec": {
      "display_name": "Python 3",
      "language": "python",
      "name": "python3"
    },
    "language_info": {
      "codemirror_mode": {
        "name": "ipython",
        "version": 3
      },
      "file_extension": ".py",
      "mimetype": "text/x-python",
      "name": "python",
      "nbconvert_exporter": "python",
      "pygments_lexer": "ipython3",
      "version": "3.9.13"
    }
  },
  "nbformat": 4,
  "nbformat_minor": 0
}
