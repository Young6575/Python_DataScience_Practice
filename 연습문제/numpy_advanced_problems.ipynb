{
 "cells": [
  {
   "cell_type": "markdown",
   "id": "44a1b7c9",
   "metadata": {},
   "source": [
    "### 문제 1: NumPy 배열 생성\n",
    "1부터 10까지의 정수를 원소로 가지는 1차원 배열을 NumPy를 사용해 만드세요."
   ]
  },
  {
   "cell_type": "code",
   "execution_count": 3,
   "id": "66f42404",
   "metadata": {},
   "outputs": [
    {
     "name": "stdout",
     "output_type": "stream",
     "text": [
      "[]\n"
     ]
    }
   ],
   "source": [
    "\n",
    "import numpy as np\n",
    "\n",
    "# 여기에 코드를 작성하세요.\n",
    "arr = np.array([])\n",
    "print(arr)\n"
   ]
  },
  {
   "cell_type": "markdown",
   "id": "8897b65d",
   "metadata": {},
   "source": [
    "### 문제 2: 배열 연산\n",
    "1부터 5까지의 배열과 6부터 10까지의 배열을 각각 만들고, 이 두 배열을 더한 결과를 출력하세요."
   ]
  },
  {
   "cell_type": "code",
   "execution_count": null,
   "id": "a06aa99e",
   "metadata": {},
   "outputs": [],
   "source": [
    "\n",
    "# 여기에 코드를 작성하세요.\n",
    "arr1 = np.array([])\n",
    "arr2 = np.array([])\n",
    "result = arr1 + arr2\n",
    "print(result)\n"
   ]
  },
  {
   "cell_type": "markdown",
   "id": "4def704d",
   "metadata": {},
   "source": [
    "### 문제 3: 배열 슬라이싱\n",
    "1부터 20까지의 숫자를 가지는 배열에서 짝수만 추출하여 출력하세요."
   ]
  },
  {
   "cell_type": "code",
   "execution_count": null,
   "id": "541f26f2",
   "metadata": {},
   "outputs": [],
   "source": [
    "\n",
    "# 여기에 코드를 작성하세요.\n",
    "arr = np.array([])\n",
    "even = arr\n",
    "print(even)\n"
   ]
  },
  {
   "cell_type": "markdown",
   "id": "1cb3608b",
   "metadata": {},
   "source": [
    "### 문제 4: 조건 필터링\n",
    "0에서 1 사이의 랜덤한 실수 10개로 이루어진 배열을 만들고, 0.5보다 큰 값만 출력하세요."
   ]
  },
  {
   "cell_type": "code",
   "execution_count": null,
   "id": "dd175662",
   "metadata": {},
   "outputs": [],
   "source": [
    "\n",
    "# 여기에 코드를 작성하세요.\n",
    "arr = np.random.rand(10)\n",
    "filtered = arr\n",
    "print(filtered)\n"
   ]
  },
  {
   "cell_type": "markdown",
   "id": "d30e7264",
   "metadata": {},
   "source": [
    "### 문제 5: 행렬 곱셈\n",
    "2x3 행렬과 3x2 행렬을 랜덤 값으로 만들고, 이 둘의 행렬 곱을 계산하세요."
   ]
  },
  {
   "cell_type": "code",
   "execution_count": null,
   "id": "991b44ee",
   "metadata": {},
   "outputs": [],
   "source": [
    "\n",
    "# 여기에 코드를 작성하세요.\n",
    "A = np.random.randint(1, 10, (2, 3))\n",
    "B = np.random.randint(1, 10, (3, 2))\n",
    "C = np.dot(A, B)\n",
    "print(C)\n"
   ]
  },
  {
   "cell_type": "markdown",
   "id": "91b457b0",
   "metadata": {},
   "source": [
    "### 문제 6: 평균과 표준편차\n",
    "0에서 100 사이의 랜덤 정수 20개로 이루어진 배열을 만들고, 평균과 표준편차를 구하세요."
   ]
  },
  {
   "cell_type": "code",
   "execution_count": null,
   "id": "88b7fd7a",
   "metadata": {},
   "outputs": [],
   "source": [
    "\n",
    "# 여기에 코드를 작성하세요.\n",
    "arr = np.random.randint(0, 101, 20)\n",
    "mean = arr.mean()\n",
    "std = arr.std()\n",
    "print(\"평균:\", mean)\n",
    "print(\"표준편차:\", std)\n"
   ]
  },
  {
   "cell_type": "markdown",
   "id": "18a85a1b",
   "metadata": {},
   "source": [
    "### 문제 7: 브로드캐스팅\n",
    "1x5 배열 `[1,2,3,4,5]`와 5x1 배열 `[[1],[2],[3],[4],[5]]`를 생성하고, 두 배열을 더한 결과를 출력하세요."
   ]
  },
  {
   "cell_type": "code",
   "execution_count": 5,
   "id": "1b5f20fe",
   "metadata": {},
   "outputs": [
    {
     "data": {
      "text/plain": [
       "array([[ 2,  3,  4,  5,  6],\n",
       "       [ 3,  4,  5,  6,  7],\n",
       "       [ 4,  5,  6,  7,  8],\n",
       "       [ 5,  6,  7,  8,  9],\n",
       "       [ 6,  7,  8,  9, 10]])"
      ]
     },
     "execution_count": 5,
     "metadata": {},
     "output_type": "execute_result"
    }
   ],
   "source": [
    "\n",
    "# 여기에 코드를 작성하세요.\n",
    "arr1 = np.array([[1,2,3,4,5]])\n",
    "arr2 = np.array([ [1],\n",
    "                  [2],\n",
    "                  [3],\n",
    "                  [4],\n",
    "                  [5]])\n",
    "\n",
    "arr3 = arr1 + arr2\n",
    "arr3"
   ]
  },
  {
   "cell_type": "markdown",
   "id": "d42f05e3",
   "metadata": {},
   "source": [
    "### 문제 8: 고차원 배열 조작\n",
    "(3,3,3) 크기의 랜덤 배열을 생성하고, 각 2D 슬라이스의 평균값을 구하세요."
   ]
  },
  {
   "cell_type": "code",
   "execution_count": null,
   "id": "c0bf3724",
   "metadata": {},
   "outputs": [
    {
     "data": {
      "text/plain": [
       "array([[[9, 6, 9],\n",
       "        [2, 3, 1],\n",
       "        [7, 8, 6]],\n",
       "\n",
       "       [[3, 8, 1],\n",
       "        [2, 7, 5],\n",
       "        [5, 0, 8]],\n",
       "\n",
       "       [[7, 9, 2],\n",
       "        [7, 4, 3],\n",
       "        [6, 7, 8]]], dtype=int32)"
      ]
     },
     "execution_count": 6,
     "metadata": {},
     "output_type": "execute_result"
    }
   ],
   "source": [
    "\n",
    "# 여기에 코드를 작성하세요.\n",
    "arr = np.random.randint(0,10,(3,3,3))\n"
   ]
  },
  {
   "cell_type": "markdown",
   "id": "eb168e39",
   "metadata": {},
   "source": [
    "### 문제 9: 고유값과 고유벡터\n",
    "2x2 행렬을 랜덤 값으로 만들고, 그 행렬의 고유값과 고유벡터를 구하세요."
   ]
  },
  {
   "cell_type": "code",
   "execution_count": null,
   "id": "61fbbf63",
   "metadata": {},
   "outputs": [],
   "source": [
    "\n",
    "# 여기에 코드를 작성하세요.\n",
    "A = np.random.randint(1, 10, (2, 2))\n",
    "values, vectors = np.linalg.eig(A)\n",
    "print(\"행렬:\n",
    "\", A)\n",
    "print(\"고유값:\", values)\n",
    "print(\"고유벡터:\n",
    "\", vectors)\n"
   ]
  },
  {
   "cell_type": "markdown",
   "id": "2a75452d",
   "metadata": {},
   "source": [
    "### 문제 10: 마스킹과 조건부 변경\n",
    "0~50 사이의 랜덤 정수 15개로 이루어진 배열을 만들고, 25보다 큰 값은 모두 25로 바꾸세요."
   ]
  },
  {
   "cell_type": "code",
   "execution_count": null,
   "id": "5b42b42b",
   "metadata": {},
   "outputs": [],
   "source": [
    "\n",
    "# 여기에 코드를 작성하세요.\n",
    "arr = np.random.randint(0, 51, 15)\n",
    "arr[arr > 25] = 25\n",
    "print(arr)\n"
   ]
  }
 ],
 "metadata": {
  "kernelspec": {
   "display_name": "Python 3",
   "language": "python",
   "name": "python3"
  },
  "language_info": {
   "codemirror_mode": {
    "name": "ipython",
    "version": 3
   },
   "file_extension": ".py",
   "mimetype": "text/x-python",
   "name": "python",
   "nbconvert_exporter": "python",
   "pygments_lexer": "ipython3",
   "version": "3.11.9"
  }
 },
 "nbformat": 4,
 "nbformat_minor": 5
}
