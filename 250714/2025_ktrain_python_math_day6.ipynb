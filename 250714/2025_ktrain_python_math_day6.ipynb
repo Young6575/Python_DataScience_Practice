{
  "cells": [
    {
      "cell_type": "markdown",
      "metadata": {
        "id": "ktNkixqggc5e"
      },
      "source": [
        "## 실습 문제 1: 일차 함수\n",
        "\n",
        "함수 f(x) = 2x + 1 을 구현하고 그래프를 그려보세요.\n",
        "\n",
        "- **요구사항:**\n",
        "    1. 5부터 5까지의 x 값에 대해 y 값을 계산하는 f_pure_python(x) 함수를 순수 Python으로 작성하세요. (힌트: range 와 리스트 사용)\n",
        "    2. 동일한 기능을 하는 f_numpy(x) 함수를 NumPy를 사용하여 작성하세요. (힌트: np.linspace 또는 np.arange, 벡터화 연산)\n",
        "    3. 두 함수로부터 얻은 (x, y) 점들을 Matplotlib을 사용하여 별도의 그래프로 그리세요. x축, y축 레이블과 그래프 제목을 추가하세요.\n"
      ]
    },
    {
      "cell_type": "code",
      "execution_count": 3,
      "metadata": {},
      "outputs": [],
      "source": [
        "import numpy as np"
      ]
    },
    {
      "cell_type": "code",
      "execution_count": null,
      "metadata": {
        "id": "w-aErW9yOymL"
      },
      "outputs": [
        {
          "data": {
            "text/plain": [
              "array([-9, -7, -5, -3, -1,  1,  3,  5,  7,  9, 11])"
            ]
          },
          "execution_count": 5,
          "metadata": {},
          "output_type": "execute_result"
        }
      ],
      "source": [
        "x = np.arange(-5,6)\n",
        "2*x +1\n",
        "\n"
      ]
    },
    {
      "cell_type": "code",
      "execution_count": 6,
      "metadata": {},
      "outputs": [
        {
          "data": {
            "text/plain": [
              "[-9, -7, -5, -3, -1, 1, 3, 5, 7, 9, 11]"
            ]
          },
          "execution_count": 6,
          "metadata": {},
          "output_type": "execute_result"
        }
      ],
      "source": [
        "[2*x+1 for x in range(-5,6) ]"
      ]
    },
    {
      "cell_type": "markdown",
      "metadata": {
        "id": "QZE2ZJOZOy50"
      },
      "source": [
        "## 실습 문제 2: 이차 함수 (다항 함수)\n",
        "\n",
        "함수 f(x) = 2x^2 - 3x + 4 를 구현하고 그래프를 그려보세요.\n",
        "\n",
        "- **요구사항:**\n",
        "    1. 5부터 5까지의 x 값에 대해 y 값을 계산하는 함수를 순수 Python으로 작성하세요.\n",
        "    2. 동일한 기능을 하는 함수를 NumPy를 사용하여 작성하세요.\n",
        "    3. 두 함수로부터 얻은 결과를 Matplotlib으로 시각화하세요."
      ]
    },
    {
      "cell_type": "code",
      "execution_count": null,
      "metadata": {
        "id": "LoTQihQ5O0Ht"
      },
      "outputs": [],
      "source": []
    },
    {
      "cell_type": "markdown",
      "metadata": {
        "id": "XBuDVQwNg9zV"
      },
      "source": [
        "## 실습 문제 3: 삼각 함수 (Sine)\n",
        "\n",
        "함수 f(x) = sin(x) 를 구현하고 그래프를 그려보세요.\n",
        "\n",
        "- **요구사항:**\n",
        "    1. 0부터 2π (약 6.28) 까지의 x 값에 대해 y 값을 계산하는 함수를 순수 Python으로 작성하세요. (힌트: math.sin 사용, 라디안 단위 사용)\n",
        "    2. 동일한 기능을 하는 함수를 NumPy를 사용하여 작성하세요. (힌트: np.sin, np.pi, np.linspace)\n",
        "    3. 두 함수로부터 얻은 결과를 Matplotlib으로 시각화하세요. 라디안 값이 익숙하지 않으므로 x축 레이블을 'x (radians)'로 설정하세요.\n"
      ]
    },
    {
      "cell_type": "code",
      "execution_count": null,
      "metadata": {
        "id": "koySprl7O_Zb"
      },
      "outputs": [],
      "source": []
    },
    {
      "cell_type": "markdown",
      "metadata": {
        "id": "r9nNIVg7O_5J"
      },
      "source": [
        "\n",
        "## 실습 문제 4: 지수 함수 (Exponential)\n",
        "\n",
        "자연 상수 e의 거듭제곱 함수 f(x) = e^x 를 구현하고 그래프를 그려보세요. 이 함수는 AI에서 확률 계산 등에 사용될 수 있습니다.\n",
        "\n",
        "- **요구사항:**\n",
        "    1. 2부터 2까지의 x 값에 대해 y 값을 계산하는 함수를 순수 Python으로 작성하세요. (힌트: math.exp)\n",
        "    2. 동일한 기능을 하는 함수를 NumPy를 사용하여 작성하세요. (힌트: np.exp)\n",
        "    3. 두 함수로부터 얻은 결과를 Matplotlib으로 시각화하세요.\n"
      ]
    },
    {
      "cell_type": "code",
      "execution_count": null,
      "metadata": {
        "id": "LCQHniy9PBx7"
      },
      "outputs": [],
      "source": []
    },
    {
      "cell_type": "markdown",
      "metadata": {
        "id": "02mlpUd6PCNW"
      },
      "source": [
        "\n",
        "## 실습 문제 5: 로그 함수 (Logarithm)\n",
        "\n",
        "자연 로그 함수 f(x) = ln(x) (밑이 e인 로그)를 구현하고 그래프를 그려보세요. 로그 함수는 지수 함수의 역함수로, 정보 이론이나 손실 함수 등에서 활용됩니다.\n",
        "\n",
        "- **요구사항:**\n",
        "    1. 0보다 크고 10 이하인 x 값에 대해 y 값을 계산하는 함수를 순수 Python으로 작성하세요. (힌트: math.log, x > 0 이어야 함)\n",
        "    2. 동일한 기능을 하는 함수를 NumPy를 사용하여 작성하세요. (힌트: np.log, 배열 요소별 적용 가능)\n",
        "    3. 두 함수로부터 얻은 결과를 Matplotlib으로 시각화하세요."
      ]
    },
    {
      "cell_type": "code",
      "execution_count": null,
      "metadata": {
        "id": "P0QHsVtMPDJn"
      },
      "outputs": [],
      "source": []
    },
    {
      "cell_type": "markdown",
      "metadata": {
        "id": "gcvm7Ju2m_tQ"
      },
      "source": [
        "\n",
        "## 실습 문제 6: 절대값 함수\n",
        "\n",
        "함수 f(x) = |x| (절대값) 를 구현하고 그래프를 그려보세요. 절대값은 L1 손실 함수 등에서 사용됩니다.\n",
        "\n",
        "- **요구사항:**\n",
        "    1. 5부터 5까지의 x 값에 대해 절대값 함수 값을 계산하고 NumPy (np.abs)를 사용하여 구현하세요.\n",
        "    2. Matplotlib으로 그래프를 그리고, x축, y축 레이블과 제목(\"Absolute Value Function\")을 추가하세요.\n"
      ]
    },
    {
      "cell_type": "code",
      "execution_count": null,
      "metadata": {
        "id": "2PrHg2uIpY5o"
      },
      "outputs": [],
      "source": []
    }
  ],
  "metadata": {
    "colab": {
      "provenance": []
    },
    "kernelspec": {
      "display_name": "Python 3",
      "name": "python3"
    },
    "language_info": {
      "codemirror_mode": {
        "name": "ipython",
        "version": 3
      },
      "file_extension": ".py",
      "mimetype": "text/x-python",
      "name": "python",
      "nbconvert_exporter": "python",
      "pygments_lexer": "ipython3",
      "version": "3.9.13"
    }
  },
  "nbformat": 4,
  "nbformat_minor": 0
}
